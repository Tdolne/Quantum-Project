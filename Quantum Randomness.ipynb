{
 "cells": [
  {
   "cell_type": "code",
   "execution_count": 1,
   "id": "fluid-cincinnati",
   "metadata": {},
   "outputs": [],
   "source": [
    "import time\n",
    "import os\n",
    "import numpy as np\n",
    "import random\n",
    "\n",
    "from qiskit import QuantumCircuit, ClassicalRegister, QuantumRegister, execute\n",
    "from qiskit.tools.visualization import plot_histogram\n",
    "\n",
    "from quantuminspire.credentials import get_authentication\n",
    "from quantuminspire.qiskit import QI\n",
    "\n",
    "QI_URL = os.getenv('API_URL', 'https://api.quantum-inspire.com/')"
   ]
  },
  {
   "cell_type": "code",
   "execution_count": 3,
   "id": "treated-cattle",
   "metadata": {},
   "outputs": [
    {
     "name": "stdout",
     "output_type": "stream",
     "text": [
      "Enter email:\n",
      "j.lizarraga@student.tudelft.nl\n",
      "Enter password\n",
      "········\n"
     ]
    }
   ],
   "source": [
    "authentication = get_authentication()\n",
    "QI.set_authentication(authentication, QI_URL)"
   ]
  },
  {
   "cell_type": "code",
   "execution_count": 48,
   "id": "coated-batman",
   "metadata": {},
   "outputs": [],
   "source": [
    "def IntrinsicQuantumBB84Circuit():\n",
    "   \n",
    "    \"\"\"\n",
    "    Circuit Generator\n",
    "    \n",
    "    For Starmon5 purposes only\n",
    "    \"\"\"\n",
    "    q = QuantumRegister(5)\n",
    "    ans = ClassicalRegister(4)\n",
    "    qc = QuantumCircuit(q, ans)\n",
    "    \n",
    "    qc.h(q[0])\n",
    "    qc.h(q[1])\n",
    "    qc.h(q[3])\n",
    "    qc.measure(q[0],ans[0])\n",
    "    qc.measure(q[1],ans[1])\n",
    "    qc.measure(q[3],ans[2])\n",
    "    \n",
    "    qc.cx(q[0],q[2])\n",
    "    qc.ch(q[1],q[2])\n",
    "    qc.ch(q[3],q[2])\n",
    "\n",
    "    qc.measure(q[2],ans[3])\n",
    "    qc.draw()\n",
    "    \n",
    "    return q, qc"
   ]
  },
  {
   "cell_type": "code",
   "execution_count": 49,
   "id": "reasonable-dispute",
   "metadata": {},
   "outputs": [],
   "source": [
    "quantumResults, quantumCircuit = IntrinsicQuantumBB84Circuit()\n",
    "qi_backend = QI.get_backend('QX-34-L')\n"
   ]
  },
  {
   "cell_type": "code",
   "execution_count": 50,
   "id": "lucky-times",
   "metadata": {},
   "outputs": [
    {
     "data": {
      "image/png": "[encoded data removed]",
      "text/plain": [
       "<Figure size 547.812x385.28 with 1 Axes>"
      ]
     },
     "execution_count": 50,
     "metadata": {},
     "output_type": "execute_result"
    }
   ],
   "source": [
    "quantumCircuit.draw(output='mpl')"
   ]
  },
  {
   "cell_type": "code",
   "execution_count": 59,
   "id": "ruled-serial",
   "metadata": {},
   "outputs": [],
   "source": [
    "def BB84ProtocolQuantumRandom(messageLength):\n",
    "    \"\"\"\n",
    "    Given the initial message length (int) it returns\n",
    "    messageInABottle: randomly generated message to be communicated (A->B)\n",
    "    AliceBasis: randomly generated Alice Basis (0:Z, 1:X)\n",
    "    BobBasis: randomly generated Bob Basis (0:Z, 1:X)\n",
    "    OutputString: either the result from the BB84 protocol if A&B have the same basis\n",
    "    or an \"x\" if Basis(A) != Basis(B)! for each bit\n",
    "    \"\"\"\n",
    "    \n",
    "    \n",
    "    n = 0\n",
    "    messageInABottle = []\n",
    "    AliceBasis = []\n",
    "    BobBasis = []\n",
    "    outputString = []\n",
    "    sameBasisPositions = []\n",
    "    \n",
    "    while n < messageLength:\n",
    "        job = execute(quantumCircuit, qi_backend,shots=1,memory=True)\n",
    "        result = job.result()\n",
    "        counts = result.get_counts()\n",
    "        measure = list(counts.keys())\n",
    "\n",
    "        messageInABottle.append(int(measure[0][0]))\n",
    "        AliceBasis.append(int(measure[0][1]))\n",
    "        BobBasis.append(int(measure[0][2]))\n",
    "        \n",
    "        if AliceBasis[n] == BobBasis[n]:\n",
    "            outputString.append(int(measure[0][3]))\n",
    "            sameBasisPositions.append(n)\n",
    "        else:\n",
    "            outputString.append(\"x\")\n",
    "        \n",
    "        n = n+1\n",
    "    \n",
    "\n",
    "    return messageInABottle, AliceBasis, BobBasis, outputString, sameBasisPositions\n",
    "\n"
   ]
  },
  {
   "cell_type": "code",
   "execution_count": null,
   "id": "constitutional-marina",
   "metadata": {},
   "outputs": [],
   "source": []
  },
  {
   "cell_type": "code",
   "execution_count": 63,
   "id": "resident-borough",
   "metadata": {},
   "outputs": [],
   "source": [
    "def BB84ProtocolQuantumRandomFast(messageLength):\n",
    "    \"\"\"\n",
    "    Given the initial message length (int) it returns\n",
    "    messageInABottle: randomly generated message to be communicated (A->B)\n",
    "    AliceBasis: randomly generated Alice Basis (0:Z, 1:X)\n",
    "    BobBasis: randomly generated Bob Basis (0:Z, 1:X)\n",
    "    OutputString: either the result from the BB84 protocol if A&B have the same basis\n",
    "    or an \"x\" if Basis(A) != Basis(B)! for each bit\n",
    "    \"\"\"\n",
    "    \n",
    "    \n",
    "    n = 0\n",
    "    messageInABottle = []\n",
    "    AliceBasis = []\n",
    "    BobBasis = []\n",
    "    outputString = []\n",
    "    sameBasisPositions = []\n",
    "    \n",
    "\n",
    "    job = execute(quantumCircuit, qi_backend,shots=messageLength,memory=True)\n",
    "    result = job.result()\n",
    "    counts = result.get_counts()\n",
    "    measure = result.get_memory()\n",
    "    \n",
    "    for n in range(messageLength):\n",
    "\n",
    "        messageInABottle.append(int(measure[n][0]))\n",
    "        AliceBasis.append(int(measure[n][1]))\n",
    "        BobBasis.append(int(measure[n][2]))\n",
    "        \n",
    "        if AliceBasis[n] == BobBasis[n]:\n",
    "            outputString.append(int(measure[n][3]))\n",
    "            sameBasisPositions.append(n)\n",
    "        else:\n",
    "            outputString.append(\"x\")\n",
    "    \n",
    "\n",
    "    return messageInABottle, AliceBasis, BobBasis, outputString, sameBasisPositions\n",
    "\n"
   ]
  },
  {
   "cell_type": "code",
   "execution_count": 64,
   "id": "cutting-declaration",
   "metadata": {},
   "outputs": [
    {
     "name": "stderr",
     "output_type": "stream",
     "text": [
      "Your experiment can not be optimized and may take longer to execute, see https://www.quantum-inspire.com/kbase/optimization-of-simulations/ for details.\n"
     ]
    },
    {
     "name": "stdout",
     "output_type": "stream",
     "text": [
      "Message:         [0, 1, 1, 1, 0, 1, 1, 0, 1, 1]\n",
      "Alice Basis:     [0, 0, 1, 1, 0, 1, 1, 0, 1, 0]\n",
      "Bob Basis:       [1, 1, 1, 1, 1, 1, 1, 1, 1, 0]\n",
      "Output Message:  ['x', 'x', 1, 1, 'x', 1, 1, 'x', 1, 1]\n"
     ]
    }
   ],
   "source": [
    "messageLength = 10\n",
    "prop = 0.5\n",
    "tolerance = 0.8\n",
    "\n",
    "\n",
    "\n",
    "messageInABottle, AliceBasis, BobBasis, messageOutput, goodIndices = BB84ProtocolQuantumRandomFast(messageLength)\n",
    "\n",
    "print(\"Message:        \", messageInABottle)\n",
    "print(\"Alice Basis:    \", AliceBasis)\n",
    "print(\"Bob Basis:      \", BobBasis)\n",
    "print(\"Output Message: \", messageOutput)"
   ]
  },
  {
   "cell_type": "code",
   "execution_count": 52,
   "id": "efficient-schedule",
   "metadata": {},
   "outputs": [],
   "source": [
    "def BB84KeyConstruction(message,output,goodIndices,prop,tolerance):\n",
    "    \"\"\"\n",
    "    message: Alice starting message\n",
    "    output: Bob's result through Quantum Magic\n",
    "    goodIndices: bit Positions in which both basis are the same    \n",
    "    prop: Proportion of common good bits to be compared\n",
    "    tolerance: minimum success rate to generate a safe QK\n",
    "\n",
    "    \"\"\"\n",
    "    auxList = []    \n",
    "    nGoodBits = len(goodIndices)\n",
    "    \n",
    "    \n",
    "    nComparingBits = int(nGoodBits*prop)\n",
    "    comparingBitPositions = random.sample(goodIndices, nComparingBits)\n",
    "    print(\"Bit Positions to compare: \",comparingBitPositions)\n",
    "    \n",
    "    allOkCounter = 0\n",
    "    for i in range(nComparingBits):\n",
    "        j = comparingBitPositions[i]\n",
    "        if int(message[j])== int(output[j]):\n",
    "            allOkCounter +=1\n",
    "            \n",
    "    for i in range(nGoodBits):\n",
    "        if i not in comparingBitPositions:\n",
    "            auxList.append(output[goodIndices[i]])\n",
    "    \n",
    "    #print(allOkCounter)\n",
    "    successRate = float(allOkCounter/nComparingBits)\n",
    "    print(\"Success rate: \",successRate)\n",
    "    if successRate < tolerance:\n",
    "        print(\"Failure\")\n",
    "        return 0\n",
    "    else:\n",
    "        print(\"Success!!!\")\n",
    "        return auxList"
   ]
  },
  {
   "cell_type": "code",
   "execution_count": 66,
   "id": "disciplinary-child",
   "metadata": {},
   "outputs": [
    {
     "name": "stderr",
     "output_type": "stream",
     "text": [
      "Your experiment can not be optimized and may take longer to execute, see https://www.quantum-inspire.com/kbase/optimization-of-simulations/ for details.\n"
     ]
    },
    {
     "name": "stdout",
     "output_type": "stream",
     "text": [
      "Message:         [1, 1, 0, 1, 1, 0, 0, 0, 1, 0, 0, 1, 1, 0, 1, 0, 0, 1, 1, 0, 0, 1, 1, 1, 0, 1, 1, 0, 0, 0, 0, 0, 1, 0, 0, 1, 0, 0, 1, 1, 0, 1, 0, 0, 1, 0, 0, 0, 1, 1, 0, 1, 1, 0, 1, 1, 1, 1, 1, 0, 0, 0, 0, 1, 0, 1, 0, 0, 1, 0, 0, 1, 0, 0, 1, 0, 1, 0, 0, 0, 1, 0, 0, 0, 1, 0, 1, 0, 0, 1, 0, 1, 0, 0, 0, 0, 0, 1, 1, 0, 0, 1, 1, 0, 0, 0, 0, 1, 1, 0, 1, 0, 0, 0, 0, 0, 0, 0, 0, 0, 1, 0, 1, 1, 0, 0, 1, 0, 0, 1, 0, 1, 0, 0, 0, 0, 0, 1, 0, 0, 1, 1, 0, 1, 1, 0, 0, 0, 0, 0, 1, 0, 1, 0, 1, 0, 1, 0, 0, 0, 1, 0, 0, 0, 1, 0, 1, 1, 0, 1, 1, 1, 1, 1, 0, 0, 0, 1, 1, 1, 1, 0, 0, 0, 0, 1, 0, 1, 0, 1, 0, 0, 1, 1, 1, 0, 1, 1, 1, 1, 0, 0, 0, 0, 0, 1, 1, 1, 0, 1, 1, 1, 0, 1, 0, 1, 1, 0, 1, 1, 0, 1, 0, 0, 1, 1, 0, 0, 1, 1, 0, 0, 1, 0, 1, 1, 1, 0, 0, 1, 0, 1, 1, 0, 1, 1, 0, 1, 0, 1, 0, 0, 0, 0, 0, 1, 1, 0, 0, 1, 0, 1, 1, 1, 0, 0, 0, 1, 1, 1, 1, 1, 1, 0, 1, 1, 1, 1, 1, 1, 0, 1, 1, 0, 0, 1, 0, 1, 0, 1, 1, 1, 1, 1, 0, 1, 1, 0, 1, 0, 1, 0, 1, 1, 1, 0, 1, 1, 1, 1, 1, 0, 1, 0, 0, 0, 1, 0, 1, 0, 0, 0, 1, 0, 1, 0, 1, 0, 0, 0, 1, 0, 0, 0, 0, 0, 1, 1, 0, 1, 0, 0, 1, 1, 0, 1, 0, 1, 1, 1, 1, 0, 0, 0, 1, 0, 0, 1, 1, 0, 1, 0, 0, 1, 1, 0, 1, 1, 1, 1, 0, 1, 1, 1, 1, 1, 0, 0, 0, 1, 0, 1, 1, 0, 1, 0, 0, 0, 0, 0, 1, 1, 1, 1, 1, 0, 1, 1, 0, 1, 0, 0, 1, 1, 0, 1, 1, 0, 1, 0, 1, 1, 0, 0, 1, 0, 1, 1, 0, 1, 1, 0, 1, 1, 1, 1, 0, 0, 0, 0, 0, 0, 1, 1, 1, 0, 0, 0, 0, 1, 0, 1, 0, 1, 1, 0, 0, 1, 0, 0, 0, 1, 0, 0, 1, 1, 0, 0, 1, 0, 0, 1, 1, 1, 1, 1, 1, 1, 0, 0, 0, 1, 1, 1, 0, 0, 1, 0, 1, 0, 0, 0, 1, 1, 1, 1, 0, 0, 1, 0, 0, 1, 1, 1, 1, 1, 1, 1, 1, 0, 1, 0, 1, 1, 0, 0, 0, 1, 1, 1, 0, 0, 1, 1, 0, 0, 0, 0, 0, 1, 1, 1, 1, 0, 0, 0, 0, 0, 1, 1, 0, 1, 1, 0, 1, 0, 1, 0, 1, 0, 0, 1, 0, 0, 0, 0, 1, 0, 0, 1, 0, 1, 1, 1, 1, 1, 1, 1, 1, 1, 1, 1, 1, 1, 1, 0, 1, 0, 1, 0, 1, 1, 1, 1, 1, 1, 1, 0, 0, 0, 1, 0, 1, 0, 0, 0, 1, 0, 0, 1, 1, 0, 1, 1, 0, 1, 1, 0, 0, 0, 1, 1, 0, 1, 0, 1, 0, 0, 0, 0, 1, 1, 0, 0, 1, 0, 0, 0, 1, 1, 0, 0, 0, 1, 1, 0, 0, 0, 1, 1, 0, 1, 1, 1, 0, 1, 1, 0, 0, 0, 0, 1, 0, 0, 1, 1, 0, 1, 0, 0, 1, 0, 0, 0, 1, 0, 0, 1, 0, 1, 0, 0, 1, 1, 1, 1, 0, 1, 0, 1, 1, 0, 0, 0, 0, 0, 0, 0, 1, 0, 1, 1, 0, 0, 1, 0, 1, 0, 1, 1, 0, 0, 0, 1, 1, 1, 1, 0, 0, 0, 1, 1, 0, 0, 1, 0, 1, 0, 0, 1, 1, 0, 1, 0, 1, 1, 1, 1, 0, 1, 0, 0, 1, 1, 1, 1, 1, 1, 0, 0, 1, 1, 1, 1, 1, 1, 1, 1, 1, 0, 1, 0, 0, 0, 0, 1, 1, 1, 0, 0, 1, 0, 1, 0, 1, 0, 0, 1, 1, 0, 1, 1, 0, 0, 0, 0, 1, 1, 0, 1, 1, 1, 0, 0, 0, 0, 0, 0, 0, 1, 0, 0, 0, 0, 0, 0, 1, 0, 0, 1, 0, 1, 1, 0, 0, 1, 0, 1, 0, 1, 0, 1, 1, 1, 0, 0, 0, 0, 1, 0, 1, 1, 1, 0, 1, 0, 1, 1, 0, 1, 1, 1, 1, 1, 0, 0, 0, 1, 0, 0, 1, 1, 1, 0, 0, 1, 0, 0, 1, 0, 1, 1, 1, 1, 1, 0, 0, 1, 0, 0, 1, 1, 1, 0, 0, 0, 0, 0, 0, 1, 0, 0, 0, 0, 1, 0, 0, 1, 0, 1, 1, 0, 0, 0, 1, 1, 1, 1, 1, 0, 0, 1, 1, 0, 1, 0, 1, 1, 0, 0, 1, 1, 0, 1, 0, 1, 0, 1, 1, 0, 1, 1, 0, 0, 0, 1, 0, 1, 1, 1, 0, 1, 0, 0, 0, 0, 0, 0, 1, 0, 0, 1, 0, 1, 1, 0, 0, 0, 0, 1, 1, 1, 0, 0, 0, 1, 1, 0, 1, 0, 1, 1, 1, 1, 0, 1, 0, 1, 1, 1, 0, 0, 1, 1, 1, 1, 1, 1, 1, 1, 1, 1, 0, 1, 0, 0, 0, 1, 1, 1, 1, 0, 1, 0, 1, 1, 1, 0, 1, 0, 0, 0, 1, 1, 0, 0, 1, 0, 1, 1, 1, 0, 0, 0, 0, 1, 1, 0, 1, 1]\n",
      "Alice Basis:     [0, 0, 0, 1, 1, 1, 1, 0, 0, 1, 0, 0, 1, 1, 1, 1, 0, 0, 0, 1, 1, 1, 1, 0, 0, 1, 1, 0, 1, 0, 1, 0, 0, 1, 1, 1, 1, 0, 1, 0, 0, 1, 1, 0, 1, 1, 1, 1, 1, 0, 0, 0, 1, 0, 1, 0, 0, 0, 1, 1, 1, 1, 1, 1, 0, 0, 0, 1, 0, 0, 1, 0, 1, 1, 1, 0, 1, 1, 0, 0, 0, 1, 0, 1, 1, 1, 1, 1, 1, 1, 1, 1, 1, 0, 1, 0, 0, 0, 1, 0, 1, 1, 0, 1, 1, 0, 0, 1, 0, 1, 1, 1, 0, 0, 0, 0, 0, 1, 0, 0, 0, 1, 0, 0, 1, 1, 0, 1, 1, 0, 0, 0, 1, 0, 1, 1, 1, 0, 0, 1, 0, 0, 0, 1, 0, 1, 0, 1, 0, 0, 0, 0, 0, 0, 0, 1, 1, 1, 1, 0, 0, 1, 0, 1, 0, 0, 0, 1, 1, 1, 0, 0, 0, 1, 1, 0, 0, 0, 1, 1, 0, 0, 0, 1, 1, 1, 1, 0, 1, 0, 0, 0, 1, 0, 0, 1, 1, 1, 1, 0, 1, 1, 1, 1, 0, 0, 1, 0, 0, 1, 0, 1, 0, 0, 1, 0, 0, 0, 1, 1, 1, 0, 1, 0, 1, 1, 0, 1, 0, 1, 1, 0, 0, 1, 1, 1, 1, 1, 1, 1, 1, 1, 1, 1, 1, 1, 0, 0, 1, 0, 1, 1, 0, 0, 0, 1, 0, 0, 0, 0, 0, 1, 1, 0, 1, 0, 1, 0, 1, 1, 1, 1, 0, 1, 1, 0, 1, 0, 1, 1, 0, 1, 1, 0, 1, 1, 0, 1, 0, 1, 0, 1, 1, 0, 1, 0, 1, 1, 0, 1, 0, 1, 0, 1, 0, 0, 0, 0, 0, 0, 0, 0, 0, 0, 0, 0, 0, 1, 0, 1, 0, 0, 0, 0, 0, 0, 1, 0, 0, 1, 1, 1, 0, 1, 0, 0, 1, 1, 1, 0, 1, 0, 1, 0, 1, 0, 1, 0, 0, 1, 0, 1, 1, 0, 0, 0, 0, 0, 0, 1, 1, 1, 1, 1, 1, 0, 0, 0, 0, 1, 0, 1, 0, 1, 1, 0, 0, 1, 0, 0, 1, 0, 1, 1, 0, 0, 0, 0, 1, 0, 1, 0, 1, 0, 1, 1, 0, 0, 1, 1, 1, 1, 1, 0, 0, 0, 0, 0, 1, 0, 0, 0, 0, 0, 1, 1, 0, 0, 0, 1, 1, 1, 1, 1, 1, 1, 0, 1, 1, 0, 0, 1, 1, 0, 0, 0, 1, 1, 1, 0, 1, 0, 1, 0, 0, 1, 0, 1, 0, 1, 1, 1, 0, 0, 1, 1, 0, 1, 0, 1, 1, 0, 0, 0, 0, 1, 0, 1, 0, 0, 1, 1, 1, 1, 0, 0, 0, 0, 0, 1, 0, 0, 1, 0, 1, 1, 0, 1, 0, 1, 1, 1, 1, 1, 1, 1, 1, 0, 0, 1, 1, 1, 0, 0, 0, 1, 0, 0, 0, 1, 1, 0, 0, 0, 1, 0, 0, 1, 1, 0, 1, 1, 1, 1, 0, 0, 1, 0, 1, 0, 1, 1, 1, 0, 1, 0, 0, 1, 1, 0, 1, 0, 1, 0, 1, 1, 1, 1, 1, 1, 1, 0, 1, 1, 0, 1, 0, 0, 1, 1, 1, 1, 0, 1, 0, 0, 0, 1, 1, 1, 0, 1, 1, 1, 0, 1, 0, 0, 1, 1, 0, 0, 0, 1, 0, 1, 0, 0, 1, 1, 0, 1, 0, 1, 0, 1, 0, 0, 0, 0, 1, 0, 1, 0, 1, 0, 0, 1, 0, 1, 1, 1, 1, 0, 1, 0, 0, 0, 1, 0, 0, 0, 1, 1, 1, 1, 1, 0, 1, 0, 0, 0, 0, 0, 0, 0, 1, 1, 1, 1, 1, 1, 0, 0, 1, 0, 1, 1, 0, 0, 1, 1, 0, 0, 0, 0, 1, 1, 0, 0, 1, 0, 0, 0, 0, 0, 1, 0, 0, 0, 1, 0, 0, 0, 0, 0, 0, 0, 0, 0, 0, 1, 1, 0, 0, 0, 1, 1, 0, 0, 0, 1, 1, 1, 1, 0, 0, 1, 1, 1, 0, 1, 1, 1, 1, 1, 0, 0, 1, 0, 1, 0, 1, 1, 0, 0, 0, 1, 0, 0, 0, 0, 1, 0, 1, 1, 0, 1, 0, 0, 1, 0, 1, 1, 0, 1, 0, 0, 1, 0, 0, 1, 1, 1, 0, 0, 0, 1, 1, 1, 0, 0, 0, 1, 0, 1, 0, 0, 1, 0, 0, 1, 1, 1, 1, 0, 1, 0, 0, 1, 0, 1, 1, 0, 1, 0, 1, 0, 0, 1, 0, 0, 0, 0, 0, 0, 1, 1, 0, 0, 1, 1, 0, 1, 1, 1, 0, 1, 1, 0, 0, 0, 1, 1, 0, 1, 1, 1, 1, 0, 0, 0, 1, 1, 1, 1, 1, 0, 1, 0, 1, 0, 0, 1, 1, 0, 0, 1, 0, 0, 0, 1, 1, 1, 1, 1, 1, 0, 1, 1, 0, 1, 0, 1, 0, 1, 1, 0, 0, 1, 0, 0, 1, 0, 0, 0, 0, 1, 0, 0, 1, 0, 0, 1, 0, 1, 0, 0, 0, 1, 1, 1, 0, 1, 0, 1, 0, 0, 0, 1, 0, 1, 0, 0, 0, 1, 1, 0, 1, 0, 0, 0, 1, 1, 0, 1, 1, 0, 0, 0, 1, 0, 1, 0, 1, 1, 0, 0, 0, 1, 0, 1, 1, 0, 1, 1, 1, 0, 1, 0, 1, 1, 1, 1, 1, 1, 0, 0, 1, 0, 0, 0, 0, 0, 1, 1, 1, 1, 0, 1, 0, 0, 1, 0, 1, 1, 0, 1, 1, 1, 0, 0, 0, 0, 0, 1, 1, 0, 1, 1, 1, 1, 0, 1, 0, 1, 0, 1, 1, 1, 1, 1, 0, 1, 1, 1, 1, 0, 1, 1, 0, 0, 0, 1, 1, 0, 0, 1, 0, 1, 1, 0, 1, 1, 0, 0, 1, 0, 1, 1]\n",
      "Bob Basis:       [0, 0, 1, 0, 0, 0, 0, 1, 0, 0, 0, 0, 0, 1, 1, 0, 0, 0, 1, 1, 1, 0, 0, 1, 0, 1, 0, 0, 0, 1, 1, 0, 0, 0, 0, 0, 0, 0, 0, 1, 1, 1, 1, 0, 0, 1, 1, 1, 1, 0, 1, 1, 0, 0, 1, 0, 1, 1, 1, 0, 0, 0, 1, 1, 1, 1, 1, 0, 1, 1, 1, 0, 1, 1, 1, 1, 1, 1, 0, 0, 1, 1, 0, 0, 1, 0, 0, 1, 0, 1, 0, 1, 1, 1, 0, 0, 1, 1, 0, 0, 1, 0, 1, 1, 0, 0, 1, 0, 0, 0, 1, 0, 1, 0, 1, 0, 1, 0, 0, 1, 1, 1, 0, 0, 1, 0, 0, 1, 1, 0, 1, 0, 1, 1, 0, 0, 1, 0, 0, 1, 1, 0, 1, 1, 1, 0, 0, 0, 0, 0, 1, 1, 1, 1, 1, 0, 1, 1, 0, 0, 1, 0, 1, 0, 1, 0, 1, 0, 0, 1, 0, 1, 1, 0, 0, 1, 0, 1, 1, 1, 0, 1, 0, 0, 0, 0, 1, 0, 1, 1, 1, 1, 0, 0, 0, 1, 1, 1, 1, 0, 1, 1, 0, 1, 0, 0, 1, 0, 1, 0, 0, 1, 1, 0, 0, 1, 1, 0, 0, 1, 1, 0, 0, 1, 1, 0, 1, 1, 1, 1, 1, 1, 1, 1, 1, 0, 1, 1, 1, 0, 1, 1, 0, 1, 1, 0, 1, 0, 0, 1, 1, 0, 1, 0, 1, 1, 0, 0, 1, 0, 1, 1, 0, 0, 1, 0, 0, 1, 0, 1, 1, 1, 0, 1, 0, 0, 0, 1, 0, 1, 1, 0, 1, 0, 1, 0, 1, 1, 1, 1, 1, 1, 1, 0, 0, 0, 0, 1, 0, 1, 1, 1, 1, 1, 1, 1, 0, 0, 0, 0, 0, 1, 0, 1, 0, 0, 0, 0, 1, 1, 1, 0, 1, 0, 0, 1, 1, 1, 1, 0, 1, 1, 0, 1, 1, 0, 0, 1, 0, 0, 0, 0, 0, 1, 1, 0, 0, 1, 0, 1, 0, 1, 1, 0, 0, 1, 0, 1, 1, 0, 0, 1, 1, 0, 1, 0, 0, 0, 0, 1, 1, 0, 1, 0, 0, 0, 1, 0, 1, 1, 0, 1, 0, 0, 0, 1, 1, 0, 1, 1, 0, 0, 1, 1, 0, 0, 0, 0, 0, 1, 0, 1, 0, 1, 0, 0, 1, 1, 0, 1, 1, 0, 1, 0, 1, 1, 0, 0, 1, 1, 1, 1, 1, 0, 0, 1, 0, 0, 0, 1, 0, 1, 0, 0, 0, 0, 1, 0, 0, 1, 0, 0, 0, 0, 0, 1, 1, 0, 0, 0, 1, 1, 1, 0, 0, 0, 1, 1, 1, 1, 1, 0, 1, 0, 1, 1, 0, 0, 1, 0, 0, 0, 0, 1, 0, 1, 0, 1, 0, 1, 0, 1, 0, 0, 1, 0, 0, 0, 0, 0, 1, 1, 1, 0, 0, 1, 0, 1, 0, 0, 1, 0, 1, 0, 0, 1, 0, 0, 1, 1, 1, 1, 0, 1, 1, 1, 0, 0, 1, 0, 1, 1, 1, 1, 0, 1, 0, 1, 1, 1, 0, 0, 1, 0, 0, 1, 1, 1, 1, 0, 0, 0, 1, 1, 0, 1, 1, 1, 1, 1, 0, 1, 0, 1, 1, 1, 0, 0, 1, 1, 1, 0, 0, 1, 1, 0, 1, 1, 1, 1, 1, 1, 0, 1, 0, 1, 1, 1, 1, 0, 0, 0, 1, 0, 0, 1, 1, 1, 0, 1, 0, 1, 1, 0, 0, 1, 1, 0, 0, 0, 0, 0, 1, 0, 1, 1, 0, 1, 1, 1, 0, 0, 1, 0, 1, 0, 1, 0, 1, 1, 1, 0, 0, 0, 1, 1, 0, 1, 0, 0, 0, 1, 1, 1, 0, 1, 0, 0, 0, 0, 0, 1, 1, 0, 1, 1, 0, 1, 0, 1, 0, 0, 0, 1, 1, 0, 1, 0, 0, 0, 1, 0, 1, 0, 1, 1, 0, 0, 0, 0, 0, 1, 1, 0, 0, 0, 0, 1, 1, 1, 1, 1, 0, 1, 1, 1, 0, 1, 0, 0, 1, 1, 1, 0, 1, 0, 0, 1, 1, 1, 1, 1, 0, 0, 0, 1, 0, 0, 1, 1, 0, 1, 0, 1, 0, 0, 0, 1, 1, 0, 1, 1, 0, 1, 0, 1, 0, 1, 0, 0, 1, 1, 0, 0, 1, 0, 1, 0, 0, 1, 0, 1, 0, 0, 1, 0, 0, 1, 1, 1, 0, 0, 0, 1, 0, 0, 1, 1, 0, 0, 1, 1, 1, 0, 0, 1, 0, 1, 0, 0, 0, 1, 0, 1, 0, 1, 1, 1, 1, 1, 1, 0, 0, 0, 1, 1, 0, 1, 0, 0, 0, 0, 0, 1, 0, 0, 1, 0, 0, 0, 1, 0, 0, 0, 1, 1, 0, 0, 0, 0, 1, 1, 1, 0, 0, 0, 1, 1, 1, 0, 0, 0, 0, 1, 0, 0, 1, 1, 1, 0, 1, 1, 1, 1, 1, 0, 0, 1, 1, 1, 0, 1, 0, 0, 0, 0, 0, 0, 1, 1, 0, 1, 1, 1, 0, 0, 1, 1, 1, 1, 1, 0, 0, 1, 1, 1, 1, 1, 1, 1, 1, 0, 1, 0, 1, 0, 1, 1, 1, 1, 0, 1, 1, 1, 1, 0, 1, 0, 1, 0, 1, 1, 1, 1, 0, 0, 1, 1, 1, 1, 1, 0, 0, 1, 1, 1, 0, 0, 0, 1, 0, 1, 0, 0, 1, 0, 1, 0, 0, 0, 1, 1, 0, 1, 0, 0, 0, 0, 1, 1, 0, 0, 1, 1, 0, 0, 1, 0, 1, 0, 1, 1, 0, 0, 0, 1, 0, 1, 1, 1, 1, 1, 1, 1, 0, 1, 1, 1, 1, 0, 0, 1, 0, 0, 0, 1, 1, 0, 0, 1, 0, 0, 1, 1, 1, 0, 1, 0, 1, 0, 0, 0, 0, 0, 0, 0, 0, 0, 0, 0, 0, 1, 0, 0, 1, 0, 0, 0, 1, 1]\n",
      "Output Message:  [1, 1, 'x', 'x', 'x', 'x', 'x', 'x', 1, 'x', 0, 1, 'x', 0, 1, 'x', 0, 1, 'x', 0, 0, 'x', 'x', 'x', 0, 1, 'x', 0, 'x', 'x', 0, 0, 1, 'x', 'x', 'x', 'x', 0, 'x', 'x', 'x', 1, 0, 0, 'x', 0, 0, 0, 1, 1, 'x', 'x', 'x', 0, 1, 1, 'x', 'x', 1, 'x', 'x', 'x', 0, 1, 'x', 'x', 'x', 'x', 'x', 'x', 0, 1, 0, 0, 1, 'x', 1, 0, 0, 0, 'x', 0, 0, 'x', 1, 'x', 'x', 0, 'x', 1, 'x', 1, 0, 'x', 'x', 0, 'x', 'x', 'x', 0, 0, 'x', 'x', 0, 'x', 0, 'x', 'x', 1, 'x', 1, 'x', 'x', 0, 'x', 0, 'x', 'x', 0, 'x', 'x', 0, 1, 1, 0, 'x', 1, 0, 0, 1, 'x', 1, 0, 'x', 'x', 'x', 0, 1, 0, 0, 'x', 1, 'x', 1, 'x', 'x', 0, 'x', 0, 0, 'x', 'x', 'x', 'x', 'x', 'x', 1, 0, 'x', 0, 'x', 'x', 'x', 'x', 'x', 0, 'x', 'x', 'x', 1, 1, 'x', 'x', 'x', 'x', 'x', 0, 'x', 1, 1, 1, 'x', 0, 'x', 'x', 'x', 0, 1, 0, 'x', 'x', 'x', 'x', 1, 1, 0, 1, 1, 1, 1, 0, 0, 'x', 0, 0, 1, 1, 1, 'x', 'x', 1, 1, 'x', 1, 'x', 'x', 'x', 0, 'x', 1, 0, 1, 'x', 'x', 1, 'x', 'x', 0, 'x', 1, 0, 'x', 'x', 0, 1, 'x', 1, 0, 0, 'x', 0, 1, 'x', 0, 1, 'x', 'x', 1, 'x', 'x', 0, 'x', 'x', 0, 'x', 1, 1, 0, 'x', 1, 'x', 1, 'x', 1, 0, 0, 'x', 'x', 'x', 1, 1, 1, 1, 0, 'x', 1, 'x', 'x', 'x', 1, 'x', 'x', 1, 0, 0, 'x', 'x', 1, 'x', 1, 'x', 1, 1, 1, 'x', 1, 'x', 0, 1, 0, 'x', 0, 'x', 1, 'x', 'x', 1, 1, 1, 1, 1, 'x', 1, 'x', 0, 0, 1, 'x', 'x', 0, 'x', 0, 'x', 0, 1, 'x', 1, 'x', 'x', 'x', 1, 0, 0, 0, 'x', 0, 'x', 1, 'x', 1, 'x', 0, 'x', 'x', 0, 1, 'x', 'x', 1, 1, 1, 0, 0, 0, 1, 'x', 0, 'x', 'x', 'x', 'x', 0, 0, 'x', 1, 0, 1, 1, 1, 1, 'x', 'x', 'x', 'x', 'x', 1, 'x', 'x', 'x', 'x', 'x', 'x', 'x', 'x', 1, 'x', 'x', 0, 0, 'x', 'x', 1, 1, 'x', 'x', 'x', 1, 1, 'x', 1, 'x', 0, 'x', 'x', 0, 1, 'x', 'x', 'x', 'x', 'x', 1, 'x', 0, 1, 0, 1, 1, 'x', 1, 1, 0, 1, 'x', 'x', 1, 0, 'x', 'x', 'x', 0, 0, 'x', 1, 1, 0, 0, 'x', 'x', 'x', 'x', 1, 'x', 1, 1, 0, 'x', 'x', 0, 'x', 0, 1, 'x', 0, 'x', 'x', 'x', 0, 'x', 0, 0, 1, 'x', 1, 'x', 1, 1, 'x', 'x', 0, 'x', 'x', 'x', 1, 0, 'x', 1, 'x', 1, 0, 0, 'x', 'x', 1, 1, 'x', 0, 'x', 1, 'x', 0, 1, 1, 'x', 'x', 1, 'x', 'x', 1, 'x', 1, 'x', 'x', 1, 0, 0, 0, 1, 'x', 1, 0, 'x', 1, 'x', 0, 'x', 0, 'x', 0, 1, 1, 1, 1, 0, 0, 'x', 'x', 'x', 1, 'x', 'x', 'x', 1, 0, 'x', 'x', 'x', 0, 1, 0, 'x', 1, 0, 'x', 'x', 0, 1, 0, 0, 1, 'x', 'x', 'x', 1, 'x', 1, 1, 1, 1, 1, 1, 'x', 1, 1, 'x', 0, 'x', 0, 1, 0, 'x', 1, 'x', 1, 1, 1, 'x', 'x', 0, 'x', 1, 0, 'x', 'x', 0, 0, 'x', 'x', 'x', 1, 1, 0, 'x', 'x', 0, 1, 'x', 0, 0, 0, 'x', 1, 0, 1, 0, 'x', 0, 0, 'x', 0, 'x', 'x', 0, 0, 1, 0, 'x', 0, 1, 'x', 'x', 0, 'x', 'x', 1, 0, 'x', 'x', 'x', 1, 0, 'x', 'x', 'x', 0, 'x', 'x', 'x', 'x', 'x', 'x', 1, 'x', 0, 1, 'x', 'x', 1, 0, 'x', 'x', 'x', 0, 'x', 'x', 0, 0, 'x', 0, 1, 0, 0, 'x', 1, 'x', 'x', 'x', 1, 0, 1, 'x', 'x', 'x', 0, 0, 0, 0, 'x', 'x', 'x', 'x', 1, 'x', 'x', 'x', 'x', 'x', 0, 1, 1, 'x', 0, 0, 'x', 1, 1, 1, 0, 0, 0, 'x', 1, 'x', 'x', 'x', 0, 1, 0, 0, 'x', 'x', 'x', 'x', 0, 1, 1, 1, 1, 'x', 1, 'x', 'x', 'x', 'x', 'x', 1, 1, 1, 0, 0, 1, 'x', 'x', 'x', 'x', 'x', 'x', 1, 'x', 'x', 1, 0, 'x', 'x', 'x', 1, 1, 1, 0, 0, 1, 0, 1, 0, 1, 'x', 'x', 'x', 'x', 0, 'x', 1, 0, 'x', 'x', 'x', 'x', 'x', 0, 'x', 1, 1, 'x', 'x', 'x', 'x', 0, 'x', 'x', 1, 'x', 0, 0, 0, 'x', 'x', 'x', 0, 0, 1, 'x', 'x', 1, 0, 'x', 'x', 'x', 'x', 'x', 1, 'x', 1, 'x', 'x', 'x', 0, 'x', 'x', 'x', 0, 'x', 'x', 1, 'x', 'x', 'x', 1, 'x', 0, 1, 'x', 1, 1, 1, 'x', 0, 'x', 1, 'x', 0, 'x', 1, 1, 0, 0, 'x', 'x', 'x', 1, 0, 1, 1, 1, 'x', 1, 'x', 'x', 1, 'x', 0, 1, 'x', 1, 'x', 0, 0, 'x', 0, 'x', 'x', 0, 0, 0, 0, 'x', 0, 'x', 'x', 'x', 1, 1, 'x', 'x', 'x', 'x', 'x', 'x', 'x', 'x', 0, 0, 1, 'x', 'x', 'x', 'x', 1, 1, 0, 0, 'x', 'x', 0, 1, 0, 'x', 0, 'x', 'x', 'x', 1, 1, 'x', 'x', 0, 1, 0, 1, 1, 1, 0, 1, 'x', 0, 0, 'x', 0, 0, 'x', 0, 0, 1, 'x', 1, 'x', 'x', 0, 0, 0, 'x', 1, 1, 'x', 'x', 'x', 'x', 1, 'x', 'x', 'x', 'x', 'x', 'x', 1, 'x', 1, 0, 1, 1, 1, 'x', 'x', 'x', 'x', 1, 1, 1, 'x', 1, 'x', 'x', 1, 0, 'x', 0, 0, 'x', 'x', 'x', 1, 'x', 'x', 'x', 0, 1, 'x', 1, 0, 1, 'x', 0, 0, 1, 'x', 'x', 0, 1, 'x', 1, 'x', 'x', 'x', 'x', 'x', 'x', 1, 'x', 0, 1, 1]\n",
      "Bit Positions to compare:  [901, 43, 157, 590, 904, 54, 16, 201, 169, 507, 316, 339, 819, 609, 200, 518, 444, 211, 91, 961, 419, 923, 571, 76, 42, 614, 509, 510, 528, 149, 244, 348, 563, 110, 466, 687, 8, 295, 465, 387, 547, 644, 170, 282, 839, 698, 287, 706, 219, 730, 463, 681, 973, 10, 207, 907, 314, 269, 917, 315, 962, 927, 673, 55, 977, 516, 364, 945, 498, 105, 762, 490, 182, 689, 625, 72, 816, 936, 841, 436, 17, 805, 840, 574, 870, 520, 126, 617, 319, 89, 486, 597, 253, 425, 213, 714, 573, 539, 988, 30, 955, 25, 655, 256, 414, 855, 865, 450, 976, 204, 221, 255, 504, 652, 79, 188, 585, 512, 240, 495, 900, 70, 469, 20, 886, 692, 356, 361, 473, 948, 606, 668, 233, 53, 27, 541, 179, 263, 995, 365, 416, 344, 591, 500, 310, 99, 850, 350, 545, 827, 667, 913, 729, 862, 453, 210, 556, 298, 271, 750, 999, 598, 77, 121, 737, 270, 549, 928, 559, 445, 506, 309, 73, 926, 82, 124, 521, 565, 368, 420, 306, 176, 283, 37, 113, 132, 701, 129, 688, 946, 809, 326, 199, 230, 708, 397, 388, 297, 71, 771, 888, 560, 847, 165, 234, 362, 713, 779, 284, 910, 324, 203, 887, 522, 127, 443, 998, 812, 137, 13, 11, 87, 217, 448, 353, 857, 799, 303, 647, 81, 247, 460, 433, 138, 308, 555, 441, 715, 261, 45, 292, 594, 834, 613, 474, 569, 603, 788, 985, 461, 227, 146, 345, 974, 964, 229, 829, 694, 753]\n",
      "Success rate:  1.0\n",
      "Success!!!\n",
      "QKD:             [1, 1, 1, 0, 1, 0, 1, 0, 0, 1, 0, 0, 1, 0, 0, 0, 0, 1, 0, 1, 1, 1, 0, 1, 0, 0, 1, 0, 0, 0, 0, 0, 1, 0, 0, 0, 0, 0, 0, 0, 0, 0, 1, 1, 0, 1, 0, 0, 1, 1, 0, 0, 1, 0, 0, 0, 0, 0, 1, 1, 1, 0, 0, 1, 0, 1, 1, 1, 1, 0, 0, 0, 1, 1, 1, 1, 1, 0, 1, 1, 1, 1, 0, 0, 1, 1, 0, 0, 1, 0, 1, 1, 0, 1, 1, 0, 0, 1, 1, 0, 1, 1, 1, 0, 0, 1, 1, 1, 1, 0, 1, 0, 0, 1, 1, 1, 1, 1, 1, 0, 0, 0, 0, 0, 1, 0, 0, 0, 0, 1, 0, 1, 1, 1, 0, 0, 0, 1, 0, 0, 1, 0, 1, 1, 1, 1, 1, 1, 1, 1, 0, 1, 1, 0, 1, 1, 1, 1, 0, 0, 1, 1, 0, 0, 1, 0, 0, 0, 0, 0, 1, 1, 1, 0, 1, 1, 1, 0, 1, 1, 0, 1, 1, 1, 1, 1, 0, 0, 1, 0, 1, 0, 0, 1, 1, 0, 0, 1, 1, 0, 0, 1, 0, 1, 0, 1, 1, 1, 1, 1, 1, 1, 0, 1, 0, 1, 1, 1, 1, 1, 1, 0, 0, 0, 0, 1, 0, 0, 0, 0, 1, 0, 0, 1, 0, 1, 0, 1, 0, 0, 1, 1, 1, 0, 0, 0, 1, 0, 1, 0, 0, 0, 0, 1, 0, 1, 0, 1, 0, 0, 1, 0, 1, 0, 0, 0, 1, 1, 1, 1, 1, 1, 1, 1, 0, 0, 1, 0, 1, 1, 1, 0, 0, 1, 0, 0, 1, 0, 1, 0, 0, 1, 1, 0, 1, 0, 0, 0, 0, 0, 1, 0, 1, 0, 1, 0, 1, 1, 1, 0, 1, 0, 1, 1, 0, 1, 0, 1, 1, 1, 1, 1, 0, 0, 0, 0, 1, 0, 0, 1, 1, 1, 0, 1, 0, 0, 1, 1, 1, 1, 0, 0, 0, 0, 0, 0, 1, 1, 0, 0, 0, 1, 1, 1, 0, 1, 1, 1, 1, 1, 1, 0, 0, 1, 1, 1, 1, 1, 1, 1, 1]\n"
     ]
    }
   ],
   "source": [
    "messageLength = 1000\n",
    "prop = 0.5\n",
    "tolerance = 0.8\n",
    "\n",
    "\n",
    "\n",
    "messageInABottle, AliceBasis, BobBasis, messageOutput, goodIndices = BB84ProtocolQuantumRandomFast(messageLength)\n",
    "\n",
    "print(\"Message:        \", messageInABottle)\n",
    "print(\"Alice Basis:    \", AliceBasis)\n",
    "print(\"Bob Basis:      \", BobBasis)\n",
    "print(\"Output Message: \", messageOutput)\n",
    "\n",
    "QKD = BB84KeyConstruction(messageInABottle,messageOutput,goodIndices,prop,tolerance)\n",
    "print(\"QKD:            \",QKD)\n"
   ]
  },
  {
   "cell_type": "code",
   "execution_count": null,
   "id": "historic-gates",
   "metadata": {},
   "outputs": [],
   "source": []
  }
 ],
 "metadata": {
  "kernelspec": {
   "display_name": "Python 3",
   "language": "python",
   "name": "python3"
  },
  "language_info": {
   "codemirror_mode": {
    "name": "ipython",
    "version": 3
   },
   "file_extension": ".py",
   "mimetype": "text/x-python",
   "name": "python",
   "nbconvert_exporter": "python",
   "pygments_lexer": "ipython3",
   "version": "3.7.1"
  }
 },
 "nbformat": 4,
 "nbformat_minor": 5
}
