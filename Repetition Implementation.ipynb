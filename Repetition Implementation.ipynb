{
 "cells": [
  {
   "cell_type": "code",
   "execution_count": 73,
   "id": "muslim-carol",
   "metadata": {},
   "outputs": [],
   "source": [
    "import numpy as np\n",
    "import matplotlib.pyplot as plt\n",
    "import random as rand"
   ]
  },
  {
   "cell_type": "code",
   "execution_count": 101,
   "id": "fiscal-baking",
   "metadata": {},
   "outputs": [],
   "source": [
    "def TableShuffler(Table):\n",
    "    #Input: Table, a 4xn_iter array\n",
    "    #Output: Table Shuffled in columns (permutation)\n",
    "    rng = np.random.default_rng()\n",
    "    Shuffled = np.transpose(rng.permutation(np.transpose(Table)))\n",
    "    return Shuffled\n",
    "\n",
    "def TableFiltering(Table):\n",
    "    #Input Table, a 4xn_iter array\n",
    "    #Output: Table Filtered: Only those columns in which\n",
    "    #Alice Basis = Bob Basis\n",
    "    #i = 0: Alice Message\n",
    "    #i = 1: Alice Basis\n",
    "    #i = 2: Bob Basis\n",
    "    #i = 3: Bob Measures\n",
    "    SameBasisTable = np.zeros([4,1])\n",
    "    for i in range(len(Table[0,:])):\n",
    "        if Table[1,i] == Table[2,i]:\n",
    "            newcol = np.zeros([4,1])\n",
    "            for j in range(4):\n",
    "                newcol[j,0]=Table[j,i]\n",
    "            SameBasisTable = np.append(SameBasisTable,newcol,axis=1)\n",
    "    SameBasisTable = np.delete(SameBasisTable,0,axis=1)\n",
    "    return SameBasisTable\n",
    "\n",
    "def TableGenerator(MesString,AliBasString,BobBasString,MeasString):\n",
    "    #Intput: 4 arrays of 02 or 1s of same length\n",
    "    #Output: Merge them into a table\n",
    "    \n",
    "    Table = np.zeros([4,len(MesString)])\n",
    "    Table[0,:] = MesString\n",
    "    Table[1,:] = AliBasString\n",
    "    Table[2,:] = BobBasString\n",
    "    Table[3,:] = MeasString\n",
    "    \n",
    "    return Table\n",
    "\n",
    "def TableReorganization(Table,n_rep):\n",
    "    #Input: Filtered Table, number of iterations for repetition code\n",
    "    #Output: Reorganised table by columns in groups of n_rep\n",
    "    \n",
    "    newTable = Table\n",
    "    columncounter = 0\n",
    "                \n",
    "        "
   ]
  },
  {
   "cell_type": "code",
   "execution_count": 102,
   "id": "ecological-weekly",
   "metadata": {},
   "outputs": [
    {
     "name": "stdout",
     "output_type": "stream",
     "text": [
      "[[0. 0. 1. 1. 0. 0. 1. 0. 0. 0.]\n",
      " [1. 0. 0. 0. 0. 0. 0. 1. 1. 1.]\n",
      " [1. 0. 1. 0. 1. 0. 1. 0. 0. 1.]\n",
      " [1. 1. 1. 1. 1. 1. 0. 0. 1. 0.]]\n",
      "\n",
      "[[0. 0. 0. 1. 1. 0. 0. 0. 0. 1.]\n",
      " [1. 0. 1. 0. 0. 0. 1. 0. 1. 0.]\n",
      " [1. 0. 0. 1. 0. 0. 0. 1. 1. 1.]\n",
      " [0. 1. 1. 1. 1. 1. 0. 1. 1. 0.]]\n",
      "\n",
      "[[0. 0. 1. 0. 0.]\n",
      " [1. 0. 0. 0. 1.]\n",
      " [1. 0. 0. 0. 1.]\n",
      " [0. 1. 1. 1. 1.]]\n",
      "\n"
     ]
    }
   ],
   "source": [
    "#Trial\n",
    "\n",
    "Message = np.random.randint(2,size = 10)\n",
    "AlicBas = np.random.randint(2,size = 10)\n",
    "BobBas  = np.random.randint(2,size = 10)\n",
    "Measure = np.random.randint(2,size = 10)\n",
    "\n",
    "Table = TableGenerator(Message,AlicBas,BobBas,Measure)\n",
    "print(Table)\n",
    "print()\n",
    "Shuffled = TableShuffler(Table)\n",
    "print(Shuffled)\n",
    "print()\n",
    "Filtered = TableFiltering(Shuffled)\n",
    "print(Filtered)\n",
    "print()\n"
   ]
  },
  {
   "cell_type": "code",
   "execution_count": 70,
   "id": "domestic-karen",
   "metadata": {},
   "outputs": [
    {
     "name": "stdout",
     "output_type": "stream",
     "text": [
      "[[0. 0.]\n",
      " [0. 0.]\n",
      " [0. 0.]\n",
      " [0. 0.]]\n",
      "[[0. 0. 0.]\n",
      " [0. 0. 0.]\n",
      " [0. 0. 0.]\n",
      " [0. 0. 0.]]\n"
     ]
    }
   ],
   "source": [
    "zerocol = np.zeros([4,1])\n",
    "onecol = np.zeros([4,1])\n",
    "newcol = np.append(zerocol,onecol,axis=1)\n",
    "print(newcol)\n",
    "\n",
    "newcol = np.append(newcol,onecol,axis=1)\n",
    "print(newcol)"
   ]
  },
  {
   "cell_type": "code",
   "execution_count": 55,
   "id": "sapphire-pioneer",
   "metadata": {},
   "outputs": [
    {
     "ename": "SyntaxError",
     "evalue": "invalid syntax (<ipython-input-55-455680ca2399>, line 1)",
     "output_type": "error",
     "traceback": [
      "\u001b[1;36m  File \u001b[1;32m\"<ipython-input-55-455680ca2399>\"\u001b[1;36m, line \u001b[1;32m1\u001b[0m\n\u001b[1;33m    def\u001b[0m\n\u001b[1;37m        ^\u001b[0m\n\u001b[1;31mSyntaxError\u001b[0m\u001b[1;31m:\u001b[0m invalid syntax\n"
     ]
    }
   ],
   "source": [
    "def "
   ]
  },
  {
   "cell_type": "code",
   "execution_count": null,
   "id": "boolean-reform",
   "metadata": {},
   "outputs": [],
   "source": []
  }
 ],
 "metadata": {
  "kernelspec": {
   "display_name": "Python 3",
   "language": "python",
   "name": "python3"
  },
  "language_info": {
   "codemirror_mode": {
    "name": "ipython",
    "version": 3
   },
   "file_extension": ".py",
   "mimetype": "text/x-python",
   "name": "python",
   "nbconvert_exporter": "python",
   "pygments_lexer": "ipython3",
   "version": "3.7.1"
  }
 },
 "nbformat": 4,
 "nbformat_minor": 5
}
