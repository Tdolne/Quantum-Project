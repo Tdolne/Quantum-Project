{
 "cells": [
  {
   "cell_type": "code",
   "execution_count": null,
   "id": "floral-anthony",
   "metadata": {},
   "outputs": [],
   "source": [
    "def bisection(f, a, b, tol=1e-6):\n",
    "    \"\"\"\n",
    "    Find the root of a given function f(x) using the bisection method.\n",
    "    :param f: The function to find the root of.\n",
    "    :param a: The left endpoint of the initial interval.\n",
    "    :param b: The right endpoint of the initial interval.\n",
    "    :param tol: The tolerance for the root.\n",
    "    :return: The root of the function.\n",
    "    \"\"\"\n",
    "    # check if the function changes sign between a and b\n",
    "    if f(a)*f(b) > 0:\n",
    "        raise ValueError(\"The function does not change sign between a and b\")\n",
    "    # loop until the interval is less than the tolerance\n",
    "    while abs(b-a) > tol:\n",
    "        # find the middle point of the interval\n",
    "        xo = (a+b)/2\n",
    "        # check if the function is zero at the middle point\n",
    "        if f(xo) == 0:\n",
    "            return xo\n",
    "        # check if the function changes sign between a and xo\n",
    "        if f(a)*f(xo) < 0:\n",
    "            b = xo\n",
    "        else:\n",
    "            a = xo\n",
    "    return (a+b)/2\n"
   ]
  }
 ],
 "metadata": {
  "kernelspec": {
   "display_name": "Python 3",
   "language": "python",
   "name": "python3"
  },
  "language_info": {
   "codemirror_mode": {
    "name": "ipython",
    "version": 3
   },
   "file_extension": ".py",
   "mimetype": "text/x-python",
   "name": "python",
   "nbconvert_exporter": "python",
   "pygments_lexer": "ipython3",
   "version": "3.7.1"
  }
 },
 "nbformat": 4,
 "nbformat_minor": 5
}
