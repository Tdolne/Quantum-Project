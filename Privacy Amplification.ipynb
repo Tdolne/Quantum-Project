{
 "cells": [
  {
   "cell_type": "code",
   "execution_count": 1,
   "id": "immediate-eclipse",
   "metadata": {},
   "outputs": [],
   "source": [
    "import hashlib\n",
    "from typing import List\n",
    "\n",
    "def privacy_amplification(key: List[int], error_rate: float) -> List[int]:\n",
    "    \"\"\"\n",
    "    Perform privacy amplification on a key generated using the BB84 protocol using a hash function.\n",
    "    :param key: The key to be amplified\n",
    "    :param error_rate: The error rate of the key\n",
    "    :return: The amplified key\n",
    "    \"\"\"\n",
    "    # Convert the key to a binary string\n",
    "    key_string = ''.join(str(bit) for bit in key)\n",
    "\n",
    "    # Determine the number of bits to keep based on the error rate\n",
    "    num_bits_to_keep = int(len(key) * (1 - error_rate))\n",
    "\n",
    "    # Hash the key using SHA-256\n",
    "    hashed_key = hashlib.sha256(key_string.encode()).hexdigest()\n",
    "\n",
    "    # Keep the desired number of bits from the hashed key\n",
    "    amplified_key = hashed_key[:num_bits_to_keep]\n",
    "    return amplified_key\n"
   ]
  },
  {
   "cell_type": "code",
   "execution_count": 15,
   "id": "french-arabic",
   "metadata": {},
   "outputs": [
    {
     "name": "stdout",
     "output_type": "stream",
     "text": [
      "6d2b32d\n",
      "92a166d\n"
     ]
    }
   ],
   "source": [
    "key1 = [0, 1, 0, 1, 1, 0, 0, 1]\n",
    "key2 = [0, 1, 0, 1, 1, 0, 1, 1]\n",
    "error_rate = 0.1\n",
    "amplified_key1 = privacy_amplification(key1, error_rate)\n",
    "print(amplified_key1)\n",
    "\n",
    "amplified_key2 = privacy_amplification(key2, error_rate)\n",
    "print(amplified_key2)"
   ]
  },
  {
   "cell_type": "code",
   "execution_count": null,
   "id": "affiliated-olympus",
   "metadata": {},
   "outputs": [],
   "source": []
  }
 ],
 "metadata": {
  "kernelspec": {
   "display_name": "Python 3",
   "language": "python",
   "name": "python3"
  },
  "language_info": {
   "codemirror_mode": {
    "name": "ipython",
    "version": 3
   },
   "file_extension": ".py",
   "mimetype": "text/x-python",
   "name": "python",
   "nbconvert_exporter": "python",
   "pygments_lexer": "ipython3",
   "version": "3.7.1"
  }
 },
 "nbformat": 4,
 "nbformat_minor": 5
}
