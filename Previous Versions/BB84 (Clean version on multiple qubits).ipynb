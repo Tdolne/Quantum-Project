{
 "cells": [
  {
   "cell_type": "markdown",
   "metadata": {},
   "source": [
    "# BB84 Protocol (Clean version)"
   ]
  },
  {
   "cell_type": "code",
   "execution_count": 1,
   "metadata": {},
   "outputs": [],
   "source": [
    "###                                                   IMPORTING LIBRARIES\n",
    "import time\n",
    "import os\n",
    "import numpy as np\n",
    "import random\n",
    "import matplotlib.pyplot as plt\n",
    "\n",
    "from qiskit import QuantumCircuit, ClassicalRegister, QuantumRegister, execute\n",
    "from qiskit.tools.visualization import plot_histogram\n",
    "\n",
    "from quantuminspire.credentials import get_authentication\n",
    "from quantuminspire.credentials import save_account\n",
    "from quantuminspire.qiskit import QI\n",
    "\n",
    "from math import ceil\n",
    "from itertools import product"
   ]
  },
  {
   "cell_type": "code",
   "execution_count": 2,
   "metadata": {},
   "outputs": [],
   "source": [
    "###                                             CONNECTING TO QUANTUM INSPIRE\n",
    "save_account('a2c6982402352e8e4b3bcabb8e89d7ec75d93003')\n",
    "QI_URL = os.getenv('API_URL', 'https://api.quantum-inspire.com/')\n",
    "authentication = get_authentication()\n",
    "QI.set_authentication(authentication, QI_URL,project_name='BB84 Simulation')\n",
    "qi_backend = QI.get_backend('QX-34-L')"
   ]
  },
  {
   "cell_type": "code",
   "execution_count": 8,
   "metadata": {},
   "outputs": [],
   "source": [
    "###                                             FUNCTIONS FOR THE BB84 PROTOCOL\n",
    "def DeconstructMessage(message, n_qubits):\n",
    "    \n",
    "    \"\"\"\n",
    "    Deconstructs the message of length n into blocks of lenght n_qubits\n",
    "    \n",
    "    Inputs:\n",
    "        - message:       nqubits-length binary array\n",
    "        - n_qubits:      number of available qubits per job\n",
    "    \n",
    "    returns:\n",
    "        - DeconMessage:  2D array with blocks of length n_qubits containing the message bits, remaining entries are set to -1\n",
    "    \"\"\"\n",
    "    \n",
    "    n_blocks = ceil(len(message)/n_qubits)\n",
    "    \n",
    "    DeconMessage = np.empty((n_blocks, n_qubits))\n",
    "    for j in range(n_qubits):\n",
    "        for i in range(n_blocks):\n",
    "            try:\n",
    "                DeconMessage[i,j] = message[n_qubits*i + j]\n",
    "            except IndexError:\n",
    "                DeconMessage[i,j] = -1\n",
    "                \n",
    "    return DeconMessage\n",
    "\n",
    "\n",
    "\n",
    "def BB84CircuitBlock(AliceBasis_block, BobBasis_block, message_block):\n",
    "   \n",
    "    \"\"\"\n",
    "    Generates the Quantum Circuit for each block of n_qubit message bits\n",
    "    \n",
    "    Inputs:\n",
    "        - AliceBasis_block: n_qubits-length array with entries 0 or 1 that indicate the basises of Alice\n",
    "        - BobBasis_block:   n_qubits-length array with entries 0 or 1 that indicate the basises of Bob\n",
    "        - message_block:    n_qubits-length array with entries 0 or 1 that indicate the bits of Alice's message\n",
    "    \n",
    "    Outputs:\n",
    "        - q:                n_qubits-size Qiskit quantum circuit to be send to Quantum Inspire\n",
    "        - qc:               n_qubits-size Qiskit classical register to be send to Quantum Inspire (for measurement results)\n",
    "    \"\"\"\n",
    "    \n",
    "    nbits = len(message_block)\n",
    "    \n",
    "    q = QuantumRegister(nbits)\n",
    "    ans = ClassicalRegister(nbits)\n",
    "    qc = QuantumCircuit(q, ans)\n",
    "    \n",
    "    for i in range(nbits):\n",
    "        if message_block[i] !=-1:\n",
    "            if message_block[i] == 1:\n",
    "                qc.x(q[i])\n",
    "            qc.barrier()\n",
    "\n",
    "            if (AliceBasis_block[i] + BobBasis_block[i])%2 == 1:\n",
    "                qc.h(q[i])\n",
    "\n",
    "            qc.measure(q[i],ans[i])\n",
    "    \n",
    "    return q, qc\n",
    "\n",
    "\n",
    "\n",
    "def BB84Message(AliceBasis,BobBasis, message, n_qubits):\n",
    "    \"\"\"\n",
    "    Constructs the Message with Quantum Magic\n",
    "    \n",
    "    Inputs:\n",
    "        - AliceBasis:        array with length nbits, that contains 0s and 1s that indicate Alice's basises\n",
    "        - BobBasis:          array with length nbits, that contains 0s and 1s that indicate Bob's basises\n",
    "        - message:           array with length nbits, that contains 0s and 1s that indicate Alice's message\n",
    "        - n_qubits:          number of available qubits for each job\n",
    "    \n",
    "    Outputs:\n",
    "        - constrMess:        array with length nbits that contains the constructed message after the quantum measurements\n",
    "        - sameBasisIndices:  array that contains all indices where Alice and Bob used the same basises\n",
    "    \n",
    "    \"\"\"\n",
    "    \n",
    "    DividedMessage = DeconstructMessage(message, n_qubits)\n",
    "    AliceBasis_Blocks = DeconstructMessage(AliceBasis, n_qubits)\n",
    "    BobBasis_Blocks = DeconstructMessage(BobBasis, n_qubits)\n",
    "    \n",
    "    nbits = len(message)\n",
    "    \n",
    "    constrMess = []\n",
    "    sameBasisIndices = []\n",
    "    for block_index in range(DividedMessage.shape[0]):\n",
    "        #print(\"Quantum Circuit: \",block_index+1,\"/\",DividedMessage.shape[0],end='\\n')\n",
    "        \n",
    "        q, qc = BB84CircuitBlock(AliceBasis_Blocks[block_index,:],BobBasis_Blocks[block_index,:],DividedMessage[block_index,:])\n",
    "        \n",
    "        job = execute(qc, qi_backend, shots=4096)\n",
    "        result = job.result()\n",
    "        counts = result.get_counts(qc)\n",
    "        \n",
    "        biggest_counts = 0\n",
    "        most_likely_message = ''\n",
    "        for binary in list(product([0,1], repeat = n_qubits)):\n",
    "            binary_str = ''\n",
    "            binary_str_rev = ''\n",
    "            for bit in binary:\n",
    "                binary_str += str(bit)\n",
    "                \n",
    "            for bit in reversed(binary):\n",
    "                binary_str_rev += str(bit) #Neccessary as QI reverses bit strings in the counts object\n",
    "            \n",
    "            try: #counts[binary_str] will raise a KeyError if that binary_str was not measured\n",
    "                if counts[binary_str] > biggest_counts:\n",
    "                    most_likely_message = binary_str_rev\n",
    "                    biggest_counts = counts[binary_str]\n",
    "            except KeyError:\n",
    "                pass\n",
    "            \n",
    "            \n",
    "        for k in range(DividedMessage.shape[1]):\n",
    "            if AliceBasis_Blocks[block_index, k] == BobBasis_Blocks[block_index,k] and DividedMessage[block_index, k] != -1:\n",
    "                sameBasisIndices.append(n_qubits*block_index + k)\n",
    "        \n",
    "        for element in most_likely_message: #constrMess should contain 1 bit per element and not n_qubit bits per element!\n",
    "            constrMess.append(element)\n",
    "    \n",
    "    return constrMess, sameBasisIndices\n",
    "\n",
    "\n",
    "\n",
    "def BB84KeyConstruction(message,output,goodIndices,prop,tolerance):\n",
    "    \"\"\"\n",
    "    Constructs the Key with a protocol that includes comparing a number of bits\n",
    "    \n",
    "    Inputs:\n",
    "        - message:      array with length nbits, that contains 0s and 1s that indicate Alice's message\n",
    "        - output:       Bob's constructed message after performing the quantum measurements\n",
    "        - goodIndices:  array that contains all indices where Alice and Bob used the same basises. \n",
    "        - prop:         proportion of the same basis instances that Alice and Bob will compare\n",
    "        - tolerance:    minimum success rate that is acceptable for constructing a valid key\n",
    "    \n",
    "    Output:\n",
    "        - auxList:      list containing the residual key bits (of same basis instances) after the comparison\n",
    "\n",
    "    \"\"\"\n",
    "    \n",
    "    auxList = []    \n",
    "    nGoodBits = len(goodIndices)\n",
    "    \n",
    "    \n",
    "    nComparingBits = int(nGoodBits*prop)\n",
    "    comparingBitPositions = random.sample(goodIndices, nComparingBits)\n",
    "    #print(\"Bit Positions to compare: \",comparingBitPositions)\n",
    "    \n",
    "    allOkCounter = 0\n",
    "    for i in range(nComparingBits):\n",
    "        j = comparingBitPositions[i]\n",
    "        if int(message[j])== int(output[j]):\n",
    "            allOkCounter +=1\n",
    "            \n",
    "    for i in range(nGoodBits):\n",
    "        if i not in comparingBitPositions:\n",
    "            auxList.append(output[goodIndices[i]])\n",
    "    \n",
    "    #print(allOkCounter)\n",
    "    try: \n",
    "        successRate = float(allOkCounter/nComparingBits) \n",
    "    except ZeroDivisionError:                               # For short messages, nComparingBits can be 0, in that case,\n",
    "        print('No bits were compared')                      # a warning is raised for the user\n",
    "        return auxList\n",
    "    print(str(nComparingBits)+\" bits were compared with a succes rate of: \"+str(successRate))\n",
    "    if successRate < tolerance:\n",
    "        #print(\"Failure\")\n",
    "        return 0\n",
    "    else:\n",
    "        #print(\"Success!!!\")\n",
    "        return auxList"
   ]
  },
  {
   "cell_type": "code",
   "execution_count": 7,
   "metadata": {},
   "outputs": [],
   "source": [
    "###                                             FULL BB84 PROTOCOL\n",
    "def wholeBB84Protocol(nbits,n_qubits,prop,tolerance):\n",
    "    \"\"\"\n",
    "    The whole BB84 protocol in the following steps:\n",
    "        1) Construction of random message and basises\n",
    "        2) Decomposition of these bitstrings into blocks of length n_qubits\n",
    "        3) Construction of the circuit for each of these blocks and quantum measurements\n",
    "        4) Classical key construction and comparison\n",
    "    \n",
    "    Inputs:\n",
    "        - nbits:      number of bits for Alice's message and both basis arrays\n",
    "        - n_qubits:   number of available qubits per circuit block\n",
    "        - prop:       proportion of the same basis instances that Alice and Bob will compare\n",
    "        - tolerance:  minimum success rate that is acceptable for constructing a valid key\n",
    "    \n",
    "    Output: \n",
    "        - QKD:        list containing the residual key bits (of same basis instances) after the comparison\n",
    "    \"\"\"\n",
    "    \n",
    "    messageInABottle = []\n",
    "    AliceBasis = []\n",
    "    BobBasis = []\n",
    "    for i in range(nbits):\n",
    "\n",
    "        messageInABottle.append(random.randint(0,1))\n",
    "        AliceBasis.append(random.randint(0,1))\n",
    "        BobBasis.append(random.randint(0,1))\n",
    "\n",
    "    \n",
    "    outputMes, goodIndices = BB84Message(AliceBasis,BobBasis,messageInABottle,n_qubits)\n",
    "    #print(\"Message: \", messageInABottle)\n",
    "    #print(\"AliceBasis \", AliceBasis)\n",
    "    #print(\"BobBasis \", BobBasis)\n",
    "    #print('')\n",
    "    #print(\"Output Message: \",outputMes)\n",
    "    #print(\"Same Basis Instances: \",goodIndices)\n",
    "    #print('')\n",
    "    \n",
    "    QKD = BB84KeyConstruction(messageInABottle,outputMes,goodIndices,prop,tolerance)\n",
    "    QKD_str = ''\n",
    "    for bit in QKD:\n",
    "        QKD_str += str(bit)\n",
    "    print(\"BB84 Key (length \"+str(len(QKD))+\") :\",end='\\n')\n",
    "    print(QKD_str)\n",
    "    \n",
    "    \n",
    "    return QKD    "
   ]
  },
  {
   "cell_type": "markdown",
   "metadata": {},
   "source": [
    "## Proof of functionality"
   ]
  },
  {
   "cell_type": "code",
   "execution_count": null,
   "metadata": {},
   "outputs": [
    {
     "name": "stdout",
     "output_type": "stream",
     "text": [
      "Number of initial key bits: 20\n",
      "Number of available qubits: 5\n",
      "Proportion of valid bits to be compared (<1 and >0): 0.1\n",
      "Maximum proportion of compared bits that have to be the same: 0.99\n"
     ]
    },
    {
     "name": "stderr",
     "output_type": "stream",
     "text": [
      "Your experiment can not be optimized and may take longer to execute, see https://www.quantum-inspire.com/kbase/optimization-of-simulations/ for details.\n",
      "Your experiment can not be optimized and may take longer to execute, see https://www.quantum-inspire.com/kbase/optimization-of-simulations/ for details.\n",
      "Your experiment can not be optimized and may take longer to execute, see https://www.quantum-inspire.com/kbase/optimization-of-simulations/ for details.\n",
      "Your experiment can not be optimized and may take longer to execute, see https://www.quantum-inspire.com/kbase/optimization-of-simulations/ for details.\n"
     ]
    }
   ],
   "source": [
    "n_bits = int(input(\"Number of initial key bits: \"))\n",
    "n_qubits = int(input(\"Number of available qubits: \"))\n",
    "prop = float(input(\"Proportion of valid bits to be compared (<1 and >0): \"))\n",
    "tolerance = float(input(\"Maximum proportion of compared bits that have to be the same: \"))\n",
    "\n",
    "BB84_Key = wholeBB84Protocol(n_bits, n_qubits, prop, tolerance)"
   ]
  },
  {
   "cell_type": "markdown",
   "metadata": {},
   "source": [
    "## Speed Test"
   ]
  },
  {
   "cell_type": "code",
   "execution_count": 30,
   "metadata": {},
   "outputs": [
    {
     "name": "stdout",
     "output_type": "stream",
     "text": [
      "Current number of input bits: 10\r"
     ]
    },
    {
     "name": "stderr",
     "output_type": "stream",
     "text": [
      "Your experiment can not be optimized and may take longer to execute, see https://www.quantum-inspire.com/kbase/optimization-of-simulations/ for details.\n",
      "Your experiment can not be optimized and may take longer to execute, see https://www.quantum-inspire.com/kbase/optimization-of-simulations/ for details.\n"
     ]
    },
    {
     "name": "stdout",
     "output_type": "stream",
     "text": [
      "Quantum Key Generated ['0', '0', '1', '1']\n",
      "Input bits: 15    previous runtime: 3.0 min\r"
     ]
    },
    {
     "name": "stderr",
     "output_type": "stream",
     "text": [
      "Your experiment can not be optimized and may take longer to execute, see https://www.quantum-inspire.com/kbase/optimization-of-simulations/ for details.\n",
      "Your experiment can not be optimized and may take longer to execute, see https://www.quantum-inspire.com/kbase/optimization-of-simulations/ for details.\n",
      "Your experiment can not be optimized and may take longer to execute, see https://www.quantum-inspire.com/kbase/optimization-of-simulations/ for details.\n"
     ]
    },
    {
     "name": "stdout",
     "output_type": "stream",
     "text": [
      "Quantum Key Generated ['0', '1', '1', '0', '0', '0', '0', '1', '1']\n",
      "Input bits: 20    previous runtime: 4.42 min\r"
     ]
    },
    {
     "name": "stderr",
     "output_type": "stream",
     "text": [
      "Your experiment can not be optimized and may take longer to execute, see https://www.quantum-inspire.com/kbase/optimization-of-simulations/ for details.\n",
      "Your experiment can not be optimized and may take longer to execute, see https://www.quantum-inspire.com/kbase/optimization-of-simulations/ for details.\n",
      "Your experiment can not be optimized and may take longer to execute, see https://www.quantum-inspire.com/kbase/optimization-of-simulations/ for details.\n",
      "Your experiment can not be optimized and may take longer to execute, see https://www.quantum-inspire.com/kbase/optimization-of-simulations/ for details.\n"
     ]
    },
    {
     "name": "stdout",
     "output_type": "stream",
     "text": [
      "Quantum Key Generated ['0', '0', '0', '0', '0', '0']\n",
      "Input bits: 25    previous runtime: 6.12 min\r"
     ]
    },
    {
     "name": "stderr",
     "output_type": "stream",
     "text": [
      "Your experiment can not be optimized and may take longer to execute, see https://www.quantum-inspire.com/kbase/optimization-of-simulations/ for details.\n",
      "Your experiment can not be optimized and may take longer to execute, see https://www.quantum-inspire.com/kbase/optimization-of-simulations/ for details.\n",
      "Your experiment can not be optimized and may take longer to execute, see https://www.quantum-inspire.com/kbase/optimization-of-simulations/ for details.\n",
      "Your experiment can not be optimized and may take longer to execute, see https://www.quantum-inspire.com/kbase/optimization-of-simulations/ for details.\n",
      "Your experiment can not be optimized and may take longer to execute, see https://www.quantum-inspire.com/kbase/optimization-of-simulations/ for details.\n"
     ]
    },
    {
     "name": "stdout",
     "output_type": "stream",
     "text": [
      "Quantum Key Generated ['0', '1', '1', '0', '0', '1', '1', '0', '1', '0', '1']\n",
      "Input bits: 30    previous runtime: 7.55 min\r"
     ]
    },
    {
     "name": "stderr",
     "output_type": "stream",
     "text": [
      "Your experiment can not be optimized and may take longer to execute, see https://www.quantum-inspire.com/kbase/optimization-of-simulations/ for details.\n",
      "Your experiment can not be optimized and may take longer to execute, see https://www.quantum-inspire.com/kbase/optimization-of-simulations/ for details.\n",
      "Your experiment can not be optimized and may take longer to execute, see https://www.quantum-inspire.com/kbase/optimization-of-simulations/ for details.\n",
      "Your experiment can not be optimized and may take longer to execute, see https://www.quantum-inspire.com/kbase/optimization-of-simulations/ for details.\n",
      "Your experiment can not be optimized and may take longer to execute, see https://www.quantum-inspire.com/kbase/optimization-of-simulations/ for details.\n",
      "Your experiment can not be optimized and may take longer to execute, see https://www.quantum-inspire.com/kbase/optimization-of-simulations/ for details.\n"
     ]
    },
    {
     "name": "stdout",
     "output_type": "stream",
     "text": [
      "Quantum Key Generated ['0', '1', '1', '0', '0', '0', '1', '1', '0', '0', '0', '0']\n",
      "Input bits: 35    previous runtime: 9.07 min\r"
     ]
    },
    {
     "name": "stderr",
     "output_type": "stream",
     "text": [
      "Your experiment can not be optimized and may take longer to execute, see https://www.quantum-inspire.com/kbase/optimization-of-simulations/ for details.\n",
      "Your experiment can not be optimized and may take longer to execute, see https://www.quantum-inspire.com/kbase/optimization-of-simulations/ for details.\n",
      "Your experiment can not be optimized and may take longer to execute, see https://www.quantum-inspire.com/kbase/optimization-of-simulations/ for details.\n",
      "Your experiment can not be optimized and may take longer to execute, see https://www.quantum-inspire.com/kbase/optimization-of-simulations/ for details.\n",
      "Your experiment can not be optimized and may take longer to execute, see https://www.quantum-inspire.com/kbase/optimization-of-simulations/ for details.\n",
      "Your experiment can not be optimized and may take longer to execute, see https://www.quantum-inspire.com/kbase/optimization-of-simulations/ for details.\n",
      "Your experiment can not be optimized and may take longer to execute, see https://www.quantum-inspire.com/kbase/optimization-of-simulations/ for details.\n"
     ]
    },
    {
     "name": "stdout",
     "output_type": "stream",
     "text": [
      "Quantum Key Generated ['1', '1', '1', '0', '1', '1', '0', '1', '0', '0', '0', '1', '1', '1', '0', '0', '1', '0']\n",
      "Input bits: 40    previous runtime: 10.56 min\r"
     ]
    },
    {
     "name": "stderr",
     "output_type": "stream",
     "text": [
      "Your experiment can not be optimized and may take longer to execute, see https://www.quantum-inspire.com/kbase/optimization-of-simulations/ for details.\n",
      "Your experiment can not be optimized and may take longer to execute, see https://www.quantum-inspire.com/kbase/optimization-of-simulations/ for details.\n",
      "Your experiment can not be optimized and may take longer to execute, see https://www.quantum-inspire.com/kbase/optimization-of-simulations/ for details.\n",
      "Your experiment can not be optimized and may take longer to execute, see https://www.quantum-inspire.com/kbase/optimization-of-simulations/ for details.\n",
      "Your experiment can not be optimized and may take longer to execute, see https://www.quantum-inspire.com/kbase/optimization-of-simulations/ for details.\n",
      "Your experiment can not be optimized and may take longer to execute, see https://www.quantum-inspire.com/kbase/optimization-of-simulations/ for details.\n",
      "Your experiment can not be optimized and may take longer to execute, see https://www.quantum-inspire.com/kbase/optimization-of-simulations/ for details.\n",
      "Your experiment can not be optimized and may take longer to execute, see https://www.quantum-inspire.com/kbase/optimization-of-simulations/ for details.\n"
     ]
    },
    {
     "name": "stdout",
     "output_type": "stream",
     "text": [
      "Quantum Key Generated ['1', '1', '0', '0', '1', '1', '0', '0', '1', '0', '0', '1', '1', '0', '1', '0', '0', '0', '1']\n",
      "Input bits: 45    previous runtime: 12.13 min\r"
     ]
    },
    {
     "name": "stderr",
     "output_type": "stream",
     "text": [
      "Your experiment can not be optimized and may take longer to execute, see https://www.quantum-inspire.com/kbase/optimization-of-simulations/ for details.\n",
      "Your experiment can not be optimized and may take longer to execute, see https://www.quantum-inspire.com/kbase/optimization-of-simulations/ for details.\n",
      "Your experiment can not be optimized and may take longer to execute, see https://www.quantum-inspire.com/kbase/optimization-of-simulations/ for details.\n",
      "Your experiment can not be optimized and may take longer to execute, see https://www.quantum-inspire.com/kbase/optimization-of-simulations/ for details.\n",
      "Your experiment can not be optimized and may take longer to execute, see https://www.quantum-inspire.com/kbase/optimization-of-simulations/ for details.\n",
      "Your experiment can not be optimized and may take longer to execute, see https://www.quantum-inspire.com/kbase/optimization-of-simulations/ for details.\n",
      "Your experiment can not be optimized and may take longer to execute, see https://www.quantum-inspire.com/kbase/optimization-of-simulations/ for details.\n",
      "Your experiment can not be optimized and may take longer to execute, see https://www.quantum-inspire.com/kbase/optimization-of-simulations/ for details.\n",
      "Your experiment can not be optimized and may take longer to execute, see https://www.quantum-inspire.com/kbase/optimization-of-simulations/ for details.\n"
     ]
    },
    {
     "name": "stdout",
     "output_type": "stream",
     "text": [
      "Quantum Key Generated ['0', '0', '1', '0', '1', '1', '1', '0', '0', '1', '1', '1', '1', '1', '1', '1', '1', '1', '0', '1', '1', '1', '1', '0', '0']\n",
      "Input bits: 50    previous runtime: 13.78 min\r"
     ]
    },
    {
     "name": "stderr",
     "output_type": "stream",
     "text": [
      "Your experiment can not be optimized and may take longer to execute, see https://www.quantum-inspire.com/kbase/optimization-of-simulations/ for details.\n",
      "Your experiment can not be optimized and may take longer to execute, see https://www.quantum-inspire.com/kbase/optimization-of-simulations/ for details.\n",
      "Your experiment can not be optimized and may take longer to execute, see https://www.quantum-inspire.com/kbase/optimization-of-simulations/ for details.\n",
      "Your experiment can not be optimized and may take longer to execute, see https://www.quantum-inspire.com/kbase/optimization-of-simulations/ for details.\n",
      "Your experiment can not be optimized and may take longer to execute, see https://www.quantum-inspire.com/kbase/optimization-of-simulations/ for details.\n",
      "Your experiment can not be optimized and may take longer to execute, see https://www.quantum-inspire.com/kbase/optimization-of-simulations/ for details.\n",
      "Your experiment can not be optimized and may take longer to execute, see https://www.quantum-inspire.com/kbase/optimization-of-simulations/ for details.\n",
      "Your experiment can not be optimized and may take longer to execute, see https://www.quantum-inspire.com/kbase/optimization-of-simulations/ for details.\n",
      "Your experiment can not be optimized and may take longer to execute, see https://www.quantum-inspire.com/kbase/optimization-of-simulations/ for details.\n",
      "Your experiment can not be optimized and may take longer to execute, see https://www.quantum-inspire.com/kbase/optimization-of-simulations/ for details.\n"
     ]
    },
    {
     "name": "stdout",
     "output_type": "stream",
     "text": [
      "Quantum Key Generated ['1', '1', '1', '0', '1', '1', '1', '1', '0', '0', '1', '1', '0', '0', '1', '1', '1', '1', '0', '1', '1', '1']\n"
     ]
    }
   ],
   "source": [
    "nbits = np.array([10,15,20,25,30,35,40,45,50])\n",
    "dt = []\n",
    "n = []\n",
    "prop = 0.3\n",
    "tolerance = 0.8\n",
    "n_qubits = 5\n",
    "for n_bits in nbits:\n",
    "    if n_bits == nbits[0]:\n",
    "        print('Current number of input bits:', n_bits, end='\\r')\n",
    "    else:\n",
    "        print('Input bits:',n_bits,'   previous runtime:', round(dt_prev/60,2), 'min', end='\\r') \n",
    "    start_time = time.time()\n",
    "    Key = wholeBB84Protocol(n_bits,n_qubits,prop,tolerance)\n",
    "    stop_time = time.time()\n",
    "    dt_prev = stop_time-start_time\n",
    "    dt.append(stop_time-start_time)\n",
    "    n.append(len(Key))"
   ]
  },
  {
   "cell_type": "code",
   "execution_count": 48,
   "metadata": {},
   "outputs": [
    {
     "data": {
      "image/png": "[encoded data removed]",
      "text/plain": [
       "<Figure size 1152x432 with 1 Axes>"
      ]
     },
     "metadata": {
      "needs_background": "light"
     },
     "output_type": "display_data"
    },
    {
     "data": {
      "image/png": "[encoded data removed]",
      "text/plain": [
       "<Figure size 1152x432 with 1 Axes>"
      ]
     },
     "metadata": {
      "needs_background": "light"
     },
     "output_type": "display_data"
    },
    {
     "data": {
      "image/png": "[encoded data removed]",
      "text/plain": [
       "<Figure size 1152x432 with 1 Axes>"
      ]
     },
     "metadata": {
      "needs_background": "light"
     },
     "output_type": "display_data"
    }
   ],
   "source": [
    "def lin_func(x,a):\n",
    "    return a*x\n",
    "\n",
    "from scipy.optimize import curve_fit\n",
    "\n",
    "a, var_a = curve_fit(lin_func, nbits, dt, p0=(20))\n",
    "plt.figure(figsize=(16,6))\n",
    "plt.plot(nbits, dt, '.', c='b')\n",
    "plt.plot(nbits, lin_func(nbits, a), ls='--', c='r', label='Time per job = '+str(round(a[0]*n_qubits/60,2)) + ' min')\n",
    "plt.xlabel('Number of input bits')\n",
    "plt.ylabel('Runtime (s)')\n",
    "plt.legend()\n",
    "plt.show()\n",
    "\n",
    "plt.figure(figsize=(16,6))\n",
    "plt.plot(n,dt, '.', c='b')\n",
    "plt.xlabel('Number of key bits')\n",
    "plt.ylabel('Runtime (s)')\n",
    "plt.show()\n",
    "\n",
    "plt.figure(figsize=(16,6))\n",
    "plt.plot(nbits, n, '.', c='b', label='Data')\n",
    "plt.plot(nbits, (1-prop)*nbits/2, ls='--', c='r', label='Theoretical prediction: (1-prop)*nbits/2')\n",
    "plt.xlabel('Number of input bits')\n",
    "plt.ylabel('Number of key bits')\n",
    "plt.legend()\n",
    "plt.show()"
   ]
  }
 ],
 "metadata": {
  "kernelspec": {
   "display_name": "Python 3",
   "language": "python",
   "name": "python3"
  },
  "language_info": {
   "codemirror_mode": {
    "name": "ipython",
    "version": 3
   },
   "file_extension": ".py",
   "mimetype": "text/x-python",
   "name": "python",
   "nbconvert_exporter": "python",
   "pygments_lexer": "ipython3",
   "version": "3.7.3"
  },
  "toc": {
   "base_numbering": 1,
   "nav_menu": {},
   "number_sections": false,
   "sideBar": true,
   "skip_h1_title": false,
   "title_cell": "Table of Contents",
   "title_sidebar": "Contents",
   "toc_cell": false,
   "toc_position": {},
   "toc_section_display": true,
   "toc_window_display": false
  }
 },
 "nbformat": 4,
 "nbformat_minor": 5
}
