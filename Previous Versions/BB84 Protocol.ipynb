{
 "cells": [
  {
   "cell_type": "code",
   "execution_count": 1,
   "id": "fluid-cincinnati",
   "metadata": {},
   "outputs": [],
   "source": [
    "import time\n",
    "import os\n",
    "import numpy as np\n",
    "import random\n",
    "\n",
    "from qiskit import QuantumCircuit, ClassicalRegister, QuantumRegister, execute\n",
    "from qiskit.tools.visualization import plot_histogram\n",
    "\n",
    "from quantuminspire.credentials import get_authentication\n",
    "from quantuminspire.qiskit import QI\n",
    "\n",
    "QI_URL = os.getenv('API_URL', 'https://api.quantum-inspire.com/')"
   ]
  },
  {
   "cell_type": "code",
   "execution_count": 2,
   "id": "treated-cattle",
   "metadata": {},
   "outputs": [
    {
     "name": "stdout",
     "output_type": "stream",
     "text": [
      "Enter email:\n",
      "j.lizarraga@student.tudelft.nl\n",
      "Enter password\n",
      "········\n"
     ]
    }
   ],
   "source": [
    "authentication = get_authentication()\n",
    "QI.set_authentication(authentication, QI_URL)"
   ]
  },
  {
   "cell_type": "code",
   "execution_count": 3,
   "id": "coated-batman",
   "metadata": {},
   "outputs": [],
   "source": [
    "def BB84Circuit(nbits, AliceBasis, BobBasis, message, bitPosition):\n",
    "   \n",
    "    \"\"\"\n",
    "    Circuit Generator\n",
    "    \n",
    "    nbits: Self-explainatory\n",
    "    AliceBasis: nqubits-length array with entries 0 (z basis) or 1 (x basis)\n",
    "    BobBasis: nqubits-length array with entries 0 (z basis) or 1 (x basis)\n",
    "    message: nqubits-length binary array\n",
    "    bitPosition: index of the bit in message to be communicated\n",
    "    \"\"\"\n",
    "    q = QuantumRegister(1)\n",
    "    ans = ClassicalRegister(1)\n",
    "    qc = QuantumCircuit(q, ans)\n",
    "    if message[bitPosition] == 1:\n",
    "        qc.x(q[0])\n",
    "    qc.barrier()\n",
    "    \n",
    "    if (AliceBasis[bitPosition] + BobBasis[bitPosition])%2 == 1:\n",
    "        qc.h(q[0])\n",
    "\n",
    "    qc.measure(q[0],ans[0])\n",
    "    \n",
    "    return q, qc"
   ]
  },
  {
   "cell_type": "code",
   "execution_count": 42,
   "id": "bigger-treasury",
   "metadata": {},
   "outputs": [
    {
     "name": "stdout",
     "output_type": "stream",
     "text": [
      "Message:  [1, 1, 1, 0, 0, 1, 0, 1, 1, 1]\n",
      "AliceBasis  [1, 1, 1, 0, 1, 1, 0, 0, 1, 0]\n",
      "BobBasis  [1, 1, 1, 1, 0, 1, 0, 1, 0, 0]\n"
     ]
    }
   ],
   "source": [
    "nbits = 10\n",
    "messageInABottle = []\n",
    "AliceBasis = []\n",
    "BobBasis = []\n",
    "for i in range(nbits):\n",
    "    \n",
    "    messageInABottle.append(random.randint(0,1))\n",
    "    AliceBasis.append(random.randint(0,1))\n",
    "    BobBasis.append(random.randint(0,1))\n",
    "\n",
    "print(\"Message: \", messageInABottle)\n",
    "print(\"AliceBasis \", AliceBasis)\n",
    "print(\"BobBasis \", BobBasis)\n"
   ]
  },
  {
   "cell_type": "code",
   "execution_count": 8,
   "id": "dangerous-galaxy",
   "metadata": {},
   "outputs": [],
   "source": [
    "def BB84Message(nbits,AliceBasis,BobBasis, message):\n",
    "    \"\"\"\n",
    "    Constructs the Message with Quantum Magic\n",
    "    nbits: Self-explainatory\n",
    "    AliceBasis: nqubits-length array with entries 0 (z basis) or 1 (x basis)\n",
    "    BobBasis: nqubits-length array with entries 0 (z basis) or 1 (x basis)\n",
    "    message: nqubits-length binary array\n",
    "    \n",
    "    returns \n",
    "    constrMess (constructed message)\n",
    "    sameBasisIndices (bit positions in which Alice and Bob use the same basis)\n",
    "    \n",
    "    \"\"\"\n",
    "    constrMess = []\n",
    "    sameBasisIndices = []\n",
    "    for bitPos in range(nbits):\n",
    "        print(\"Quantum Communicating bit number: \",bitPos,\"/\",nbits)\n",
    "        q, qc = BB84Circuit(nbits,AliceBasis,BobBasis,message,bitPos)\n",
    "        qi_backend = QI.get_backend('QX-34-L')\n",
    "        job = execute(qc, qi_backend)\n",
    "        result = job.result()\n",
    "        counts = result.get_counts()\n",
    "        \n",
    "        \n",
    "        if (AliceBasis[bitPos]+ BobBasis[bitPos])%2 == 1: #different basis: trash\n",
    "            constrMess.append(\"x\")\n",
    "            \n",
    "        else: #same basis\n",
    "            sameBasisIndices.append(bitPos)\n",
    "            if len(counts)==1: #only one result\n",
    "                constrMess.append(list(counts.keys())[0]) #add that result to the message\n",
    "                \n",
    "            else: #get the result with more counts\n",
    "                if counts['0'] >= counts['1']:\n",
    "                    constrMess.append('0')\n",
    "                else:\n",
    "                    constrMess.append('1')      \n",
    "    \n",
    "    return constrMess, sameBasisIndices    \n",
    "        "
   ]
  },
  {
   "cell_type": "code",
   "execution_count": 44,
   "id": "innocent-mambo",
   "metadata": {},
   "outputs": [],
   "source": [
    "outputMes, goodIndices = BB84Message(nbits,AliceBasis,BobBasis,messageInABottle)"
   ]
  },
  {
   "cell_type": "code",
   "execution_count": 45,
   "id": "canadian-newspaper",
   "metadata": {},
   "outputs": [
    {
     "name": "stdout",
     "output_type": "stream",
     "text": [
      "['1', '1', '1', 'x', 'x', '1', '0', 'x', 'x', '1']\n"
     ]
    }
   ],
   "source": [
    "print(outputMes)"
   ]
  },
  {
   "cell_type": "code",
   "execution_count": 46,
   "id": "occasional-winter",
   "metadata": {},
   "outputs": [
    {
     "name": "stdout",
     "output_type": "stream",
     "text": [
      "[0, 1, 2, 5, 6, 9]\n"
     ]
    }
   ],
   "source": [
    "print(goodIndices)"
   ]
  },
  {
   "cell_type": "code",
   "execution_count": 5,
   "id": "determined-quarter",
   "metadata": {},
   "outputs": [],
   "source": [
    "def BB84KeyConstruction(message,output,goodIndices,prop,tolerance):\n",
    "    \"\"\"\n",
    "    message: Alice starting message\n",
    "    output: Bob's result through Quantum Magic\n",
    "    goodIndices: bit Positions in which both basis are the same    \n",
    "    prop: Proportion of common good bits to be compared\n",
    "    tolerance: minimum success rate to generate a safe QK\n",
    "\n",
    "    \"\"\"\n",
    "    auxList = []    \n",
    "    nGoodBits = len(goodIndices)\n",
    "    \n",
    "    \n",
    "    nComparingBits = int(nGoodBits*prop)\n",
    "    comparingBitPositions = random.sample(goodIndices, nComparingBits)\n",
    "    print(\"Bit Positions to compare: \",comparingBitPositions)\n",
    "    \n",
    "    allOkCounter = 0\n",
    "    for i in range(nComparingBits):\n",
    "        j = comparingBitPositions[i]\n",
    "        if int(message[j])== int(output[j]):\n",
    "            allOkCounter +=1\n",
    "            \n",
    "    for i in range(nGoodBits):\n",
    "        if i not in comparingBitPositions:\n",
    "            auxList.append(output[goodIndices[i]])\n",
    "    \n",
    "    print(allOkCounter)\n",
    "    successRate = float(allOkCounter/nComparingBits)\n",
    "    print(\"Success rate: \",successRate)\n",
    "    if successRate < tolerance:\n",
    "        print(\"Failure\")\n",
    "        return 0\n",
    "    else:\n",
    "        print(\"Success!!!\")\n",
    "        return auxList\n",
    "\n",
    "    "
   ]
  },
  {
   "cell_type": "code",
   "execution_count": 48,
   "id": "younger-member",
   "metadata": {},
   "outputs": [
    {
     "name": "stdout",
     "output_type": "stream",
     "text": [
      "[6, 9, 2]\n",
      "3\n",
      "1.0\n",
      "Success!!!\n",
      "['1', '1', '1', '0', '1']\n"
     ]
    }
   ],
   "source": [
    "prop = 0.5\n",
    "tolerance = 0.8\n",
    "\n",
    "QKD = BB84KeyConstruction(messageInABottle,outputMes,goodIndices,prop,tolerance)\n",
    "print(QKD)"
   ]
  },
  {
   "cell_type": "code",
   "execution_count": 6,
   "id": "optical-heater",
   "metadata": {},
   "outputs": [],
   "source": [
    "def wholeBB84Protocol(nbits,prop,tolerance):\n",
    "    messageInABottle = []\n",
    "    AliceBasis = []\n",
    "    BobBasis = []\n",
    "    for i in range(nbits):\n",
    "\n",
    "        messageInABottle.append(random.randint(0,1))\n",
    "        AliceBasis.append(random.randint(0,1))\n",
    "        BobBasis.append(random.randint(0,1))\n",
    "\n",
    "    print(\"Message: \", messageInABottle)\n",
    "    print(\"AliceBasis \", AliceBasis)\n",
    "    print(\"BobBasis \", BobBasis)\n",
    "    \n",
    "    outputMes, goodIndices = BB84Message(nbits,AliceBasis,BobBasis,messageInABottle)\n",
    "    print(\"Output Message: \",outputMes)\n",
    "    print(\"Same Basis Instances: \",goodIndices)\n",
    "    \n",
    "    QKD = BB84KeyConstruction(messageInABottle,outputMes,goodIndices,prop,tolerance)\n",
    "    print(\"Quantum Key Generated\", QKD)\n",
    "    \n",
    "    return QKD\n",
    "    \n",
    "    "
   ]
  },
  {
   "cell_type": "code",
   "execution_count": 9,
   "id": "proved-entry",
   "metadata": {},
   "outputs": [
    {
     "name": "stdout",
     "output_type": "stream",
     "text": [
      "Message:  [1, 1, 1, 0, 1, 1, 0, 0, 0, 0, 1, 1]\n",
      "AliceBasis  [0, 1, 0, 1, 0, 0, 1, 1, 1, 0, 1, 1]\n",
      "BobBasis  [0, 1, 1, 1, 0, 1, 0, 0, 1, 0, 0, 0]\n",
      "Quantum Communicating bit number:  0 / 12\n",
      "Quantum Communicating bit number:  1 / 12\n",
      "Quantum Communicating bit number:  2 / 12\n",
      "Quantum Communicating bit number:  3 / 12\n",
      "Quantum Communicating bit number:  4 / 12\n",
      "Quantum Communicating bit number:  5 / 12\n",
      "Quantum Communicating bit number:  6 / 12\n",
      "Quantum Communicating bit number:  7 / 12\n",
      "Quantum Communicating bit number:  8 / 12\n",
      "Quantum Communicating bit number:  9 / 12\n",
      "Quantum Communicating bit number:  10 / 12\n",
      "Quantum Communicating bit number:  11 / 12\n",
      "Output Message:  ['1', '1', 'x', '0', '1', 'x', 'x', 'x', '0', '0', 'x', 'x']\n",
      "Same Basis Instances:  [0, 1, 3, 4, 8, 9]\n",
      "Bit Positions to compare:  [0]\n",
      "1\n",
      "Success rate:  1.0\n",
      "Success!!!\n",
      "Quantum Key Generated ['1', '0', '1', '0', '0']\n"
     ]
    }
   ],
   "source": [
    "nbits = 12\n",
    "prop = 0.3\n",
    "tolerance = 0.8\n",
    "Key = wholeBB84Protocol(nbits,prop,tolerance)"
   ]
  },
  {
   "cell_type": "code",
   "execution_count": null,
   "id": "general-domestic",
   "metadata": {},
   "outputs": [],
   "source": []
  }
 ],
 "metadata": {
  "kernelspec": {
   "display_name": "Python 3",
   "language": "python",
   "name": "python3"
  },
  "language_info": {
   "codemirror_mode": {
    "name": "ipython",
    "version": 3
   },
   "file_extension": ".py",
   "mimetype": "text/x-python",
   "name": "python",
   "nbconvert_exporter": "python",
   "pygments_lexer": "ipython3",
   "version": "3.7.1"
  }
 },
 "nbformat": 4,
 "nbformat_minor": 5
}
