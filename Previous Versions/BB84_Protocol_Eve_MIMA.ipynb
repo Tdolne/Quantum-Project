{
 "cells": [
  {
   "cell_type": "code",
   "execution_count": 29,
   "metadata": {},
   "outputs": [],
   "source": [
    "import time\n",
    "import os\n",
    "import numpy as np\n",
    "import random\n",
    "\n",
    "from qiskit import QuantumCircuit, ClassicalRegister, QuantumRegister, execute\n",
    "from qiskit.tools.visualization import plot_histogram\n",
    "\n",
    "from quantuminspire.credentials import get_authentication\n",
    "from quantuminspire.qiskit import QI\n",
    "\n",
    "QI_URL = os.getenv('API_URL', 'https://api.quantum-inspire.com/')"
   ]
  },
  {
   "cell_type": "code",
   "execution_count": 30,
   "metadata": {},
   "outputs": [
    {
     "name": "stdout",
     "output_type": "stream",
     "text": [
      "Enter email:\n",
      "jmascaror98@gmail.com\n",
      "Enter password\n",
      "········\n"
     ]
    }
   ],
   "source": [
    "authentication = get_authentication()\n",
    "QI.set_authentication(authentication, QI_URL)"
   ]
  },
  {
   "cell_type": "code",
   "execution_count": 31,
   "metadata": {},
   "outputs": [],
   "source": [
    "def BB84Circuit(nbits, AliceBasis, EveBasis, BobBasis, message, bitPosition):\n",
    "   \n",
    "    \"\"\"\n",
    "    Circuit Generator\n",
    "    \n",
    "    nbits: Self-explainatory\n",
    "    AliceBasis: nqubits-length array with entries 0 (z basis) or 1 (x basis)\n",
    "    EveBasis: nqubits-length array with entries 0 (z basis) or 1 (x basis)\n",
    "    BobBasis: nqubits-length array with entries 0 (z basis) or 1 (x basis)\n",
    "    message: nqubits-length binary array\n",
    "    bitPosition: index of the bit in message to be communicated\n",
    "    \"\"\"\n",
    "    q = QuantumRegister(1)\n",
    "    ans = ClassicalRegister(1)\n",
    "    qc = QuantumCircuit(q, ans)\n",
    "    if message[bitPosition] == 1:\n",
    "        qc.x(q[0])\n",
    "    qc.barrier()\n",
    "    \n",
    "# Man-In-The-Middle-Attack\n",
    "\n",
    "    had_ind = (AliceBasis[bitPosition] + EveBasis[bitPosition])%2\n",
    "\n",
    "    if had_ind == 1:    \n",
    "        qc.h(q[0])\n",
    "    qc.barrier()\n",
    "    \n",
    "# Eve measures\n",
    "\n",
    "    qc.measure(q[0],ans[0])\n",
    "    \n",
    "# Bob measures\n",
    "\n",
    "    if (had_ind+BobBasis[bitPosition])%2 == 1:\n",
    "        qc.h(q[0])\n",
    "\n",
    "    qc.measure(q[0],ans[0])\n",
    "    \n",
    "    return q, qc"
   ]
  },
  {
   "cell_type": "code",
   "execution_count": 44,
   "metadata": {},
   "outputs": [
    {
     "name": "stdout",
     "output_type": "stream",
     "text": [
      "Message:  [0, 1, 1, 0, 0, 1, 0, 1, 0, 0]\n",
      "AliceBasis  [1, 0, 1, 0, 1, 0, 0, 0, 0, 0]\n",
      "EveBasis  [0, 0, 0, 1, 1, 1, 0, 1, 1, 0]\n",
      "BobBasis  [1, 0, 0, 0, 1, 0, 0, 1, 1, 0]\n"
     ]
    }
   ],
   "source": [
    "nbits = 10\n",
    "messageInABottle = []\n",
    "AliceBasis = []\n",
    "BobBasis = []\n",
    "EveBasis = []\n",
    "for i in range(nbits):\n",
    "    \n",
    "    messageInABottle.append(random.randint(0,1))\n",
    "    AliceBasis.append(random.randint(0,1))\n",
    "    BobBasis.append(random.randint(0,1))\n",
    "    EveBasis.append(random.randint(0,1))\n",
    "\n",
    "print(\"Message: \", messageInABottle)\n",
    "print(\"AliceBasis \", AliceBasis)\n",
    "print(\"EveBasis \", EveBasis )\n",
    "print(\"BobBasis \", BobBasis)\n"
   ]
  },
  {
   "cell_type": "code",
   "execution_count": 48,
   "metadata": {},
   "outputs": [],
   "source": [
    "def BB84Message(nbits,AliceBasis,EveBasis,BobBasis, message):\n",
    "    \"\"\"\n",
    "    Constructs the Message with Quantum Magic\n",
    "    nbits: Self-explainatory\n",
    "    AliceBasis: nqubits-length array with entries 0 (z basis) or 1 (x basis)\n",
    "    EveBasis: nqubits-length array with entries 0 (z basis) or 1 (x basis)\n",
    "    BobBasis: nqubits-length array with entries 0 (z basis) or 1 (x basis)\n",
    "    message: nqubits-length binary array\n",
    "    \n",
    "    returns \n",
    "    constrMess (constructed message)\n",
    "    sameBasisIndices (bit positions in which Alice and Bob use the same basis)\n",
    "    \n",
    "    \"\"\"\n",
    "    AliceEveMess = []\n",
    "    constrMess = []\n",
    "    sameBasisIndicesA_E = []\n",
    "    sameBasisIndices = []\n",
    "    for bitPos in range(nbits):\n",
    "        print(\"Quantum Communicating bit number: \",bitPos+1,\"/\",nbits)\n",
    "        q, qc = BB84Circuit(nbits,AliceBasis,EveBasis,BobBasis,message,bitPos)\n",
    "        qi_backend = QI.get_backend('QX-34-L')\n",
    "        job = execute(qc, qi_backend)\n",
    "        result = job.result()\n",
    "        counts = result.get_counts()\n",
    "        \n",
    "        \n",
    "        if (AliceBasis[bitPos] + EveBasis[bitPos])%2 == 1: #different basis: info destructed\n",
    "            AliceEveMess.append(\"E_x\")\n",
    "            \n",
    "        else: #same basis\n",
    "            sameBasisIndicesA_E.append(bitPos)\n",
    "            if len(counts)==1: #only one result\n",
    "                AliceEveMess.append(list(counts.keys())[0]) #add that result to the message\n",
    "                \n",
    "            else: #get the result with more counts\n",
    "                if counts['0'] >= counts['1']:\n",
    "                    AliceEveMess.append('0')\n",
    "                else:\n",
    "                    AliceEveMess.append('1')\n",
    "                    \n",
    "        if (AliceBasis[bitPos] + BobBasis[bitPos])%2 == 1: #different basis: info destructed\n",
    "            constrMess.append(\"x\")\n",
    "            \n",
    "        else: #same basis\n",
    "            sameBasisIndices.append(bitPos)\n",
    "            if len(counts)==1: #only one result\n",
    "                constrMess.append(list(counts.keys())[0]) #add that result to the message\n",
    "                \n",
    "            else: #get the result with more counts\n",
    "                if counts['0'] >= counts['1']:\n",
    "                    constrMess.append('0')\n",
    "                else:\n",
    "                    constrMess.append('1')\n",
    "        \n",
    "    \n",
    "    return AliceEveMess, sameBasisIndicesA_E, constrMess, sameBasisIndices    \n",
    "        "
   ]
  },
  {
   "cell_type": "code",
   "execution_count": 49,
   "metadata": {
    "scrolled": true
   },
   "outputs": [
    {
     "name": "stdout",
     "output_type": "stream",
     "text": [
      "Quantum Communicating bit number:  1 / 10\n",
      "Quantum Communicating bit number:  2 / 10\n",
      "Quantum Communicating bit number:  3 / 10\n"
     ]
    },
    {
     "name": "stderr",
     "output_type": "stream",
     "text": [
      "Your experiment can not be optimized and may take longer to execute, see https://www.quantum-inspire.com/kbase/optimization-of-simulations/ for details.\n"
     ]
    },
    {
     "name": "stdout",
     "output_type": "stream",
     "text": [
      "Quantum Communicating bit number:  4 / 10\n"
     ]
    },
    {
     "name": "stderr",
     "output_type": "stream",
     "text": [
      "Your experiment can not be optimized and may take longer to execute, see https://www.quantum-inspire.com/kbase/optimization-of-simulations/ for details.\n"
     ]
    },
    {
     "name": "stdout",
     "output_type": "stream",
     "text": [
      "Quantum Communicating bit number:  5 / 10\n"
     ]
    },
    {
     "name": "stderr",
     "output_type": "stream",
     "text": [
      "Your experiment can not be optimized and may take longer to execute, see https://www.quantum-inspire.com/kbase/optimization-of-simulations/ for details.\n"
     ]
    },
    {
     "name": "stdout",
     "output_type": "stream",
     "text": [
      "Quantum Communicating bit number:  6 / 10\n"
     ]
    },
    {
     "name": "stderr",
     "output_type": "stream",
     "text": [
      "Your experiment can not be optimized and may take longer to execute, see https://www.quantum-inspire.com/kbase/optimization-of-simulations/ for details.\n"
     ]
    },
    {
     "name": "stdout",
     "output_type": "stream",
     "text": [
      "Quantum Communicating bit number:  7 / 10\n",
      "Quantum Communicating bit number:  8 / 10\n",
      "Quantum Communicating bit number:  9 / 10\n",
      "Quantum Communicating bit number:  10 / 10\n"
     ]
    }
   ],
   "source": [
    "AliceEveMes, goodIndices_A_E, outputMes, goodIndices = BB84Message(nbits,AliceBasis,EveBasis,BobBasis,messageInABottle)"
   ]
  },
  {
   "cell_type": "code",
   "execution_count": 59,
   "metadata": {},
   "outputs": [
    {
     "name": "stdout",
     "output_type": "stream",
     "text": [
      "Alice-Eve Message:  ['E_x', '1', 'E_x', 'E_x', '0', 'E_x', '0', 'E_x', 'E_x', '0']\n",
      "Output Message:  ['0', '1', 'x', '0', '0', '0', '0', 'x', 'x', '0']\n",
      "Message:  [0, 1, 1, 0, 0, 1, 0, 1, 0, 0]\n"
     ]
    }
   ],
   "source": [
    "print(\"Alice-Eve Message: \",AliceEveMes)\n",
    "print(\"Output Message: \", outputMes)\n",
    "print(\"Message: \", messageInABottle)"
   ]
  },
  {
   "cell_type": "code",
   "execution_count": 51,
   "metadata": {},
   "outputs": [
    {
     "name": "stdout",
     "output_type": "stream",
     "text": [
      "[1, 4, 6, 9]\n",
      "[0, 1, 3, 4, 5, 6, 9]\n"
     ]
    }
   ],
   "source": [
    "print(goodIndices_A_E)\n",
    "print(goodIndices)"
   ]
  },
  {
   "cell_type": "code",
   "execution_count": 53,
   "metadata": {},
   "outputs": [],
   "source": [
    "def BB84KeyConstruction(message,output,goodIndices,prop,tolerance):\n",
    "    \"\"\"\n",
    "    message: Alice starting message\n",
    "    output: Bob's result through Quantum Magic\n",
    "    goodIndices: bit Positions in which both basis are the same    \n",
    "    prop: Proportion of common good bits to be compared\n",
    "    tolerance: minimum success rate to generate a safe QK\n",
    "\n",
    "    \"\"\"\n",
    "    auxList = []    \n",
    "    nGoodBits = len(goodIndices)\n",
    "    \n",
    "    \n",
    "    nComparingBits = int(nGoodBits*prop)\n",
    "    comparingBitPositions = random.sample(goodIndices, nComparingBits)\n",
    "    print(\"Bit Positions to compare: \",comparingBitPositions)\n",
    "    \n",
    "    allOkCounter = 0\n",
    "    for i in range(nComparingBits):\n",
    "        j = comparingBitPositions[i]\n",
    "        if int(message[j])== int(output[j]):\n",
    "            allOkCounter +=1\n",
    "            \n",
    "    for i in range(nGoodBits):\n",
    "        if i not in comparingBitPositions:\n",
    "            auxList.append(output[goodIndices[i]])\n",
    "    \n",
    "    print(allOkCounter)\n",
    "    successRate = float(allOkCounter/nComparingBits)\n",
    "    print(\"Success rate: \",successRate)\n",
    "    if successRate < tolerance:\n",
    "        print(\"Failure\")\n",
    "        return 0\n",
    "    else:\n",
    "        print(\"Success!!!\")\n",
    "        return auxList\n",
    "\n",
    "    "
   ]
  },
  {
   "cell_type": "code",
   "execution_count": 55,
   "metadata": {},
   "outputs": [
    {
     "name": "stdout",
     "output_type": "stream",
     "text": [
      "Bit Positions to compare:  [9, 6, 3]\n",
      "3\n",
      "Success rate:  1.0\n",
      "Success!!!\n",
      "['0', '1', '0', '0', '0']\n"
     ]
    }
   ],
   "source": [
    "prop = 0.5\n",
    "tolerance = 0.8\n",
    "\n",
    "QKD = BB84KeyConstruction(messageInABottle,outputMes,goodIndices,prop,tolerance)\n",
    "print(QKD)"
   ]
  },
  {
   "cell_type": "code",
   "execution_count": 62,
   "metadata": {},
   "outputs": [],
   "source": [
    "def wholeBB84Protocol(nbits,prop,tolerance):\n",
    "    messageInABottle = []\n",
    "    AliceBasis = []\n",
    "    BobBasis = []\n",
    "    EveBasis = []\n",
    "    for i in range(nbits):\n",
    "\n",
    "        messageInABottle.append(random.randint(0,1))\n",
    "        AliceBasis.append(random.randint(0,1))\n",
    "        BobBasis.append(random.randint(0,1))\n",
    "        EveBasis.append(random.randint(0,1))\n",
    "\n",
    "    print(\"Message: \", messageInABottle)\n",
    "    print(\"AliceBasis \", AliceBasis)\n",
    "    print(\"EveBasis \", EveBasis)\n",
    "    print(\"BobBasis \", BobBasis)\n",
    "    \n",
    "    \n",
    "    AliceEveMes, goodIndices_A_E, outputMes, goodIndices = BB84Message(nbits,AliceBasis,EveBasis,BobBasis,messageInABottle)\n",
    "    print(\"Message: \", messageInABottle)\n",
    "    print(\"Output Message: \",outputMes)\n",
    "    print(\"Same Basis Instances: \",goodIndices)\n",
    "    \n",
    "    QKD = BB84KeyConstruction(messageInABottle,outputMes,goodIndices,prop,tolerance)\n",
    "    print(\"Quantum Key Generated\", QKD)\n",
    "    \n",
    "    return QKD\n",
    "    \n",
    "    "
   ]
  },
  {
   "cell_type": "code",
   "execution_count": 63,
   "metadata": {},
   "outputs": [
    {
     "name": "stdout",
     "output_type": "stream",
     "text": [
      "Message:  [1, 0, 1, 0, 1, 1, 1, 1, 0, 0, 1, 0]\n",
      "AliceBasis  [0, 0, 1, 1, 0, 0, 0, 1, 0, 1, 0, 1]\n",
      "EveBasis  [0, 1, 0, 0, 0, 1, 0, 1, 1, 0, 1, 0]\n",
      "BobBasis  [1, 0, 0, 0, 1, 0, 0, 1, 1, 1, 1, 0]\n",
      "Quantum Communicating bit number:  1 / 12\n"
     ]
    },
    {
     "name": "stderr",
     "output_type": "stream",
     "text": [
      "Your experiment can not be optimized and may take longer to execute, see https://www.quantum-inspire.com/kbase/optimization-of-simulations/ for details.\n"
     ]
    },
    {
     "name": "stdout",
     "output_type": "stream",
     "text": [
      "Quantum Communicating bit number:  2 / 12\n"
     ]
    },
    {
     "name": "stderr",
     "output_type": "stream",
     "text": [
      "Your experiment can not be optimized and may take longer to execute, see https://www.quantum-inspire.com/kbase/optimization-of-simulations/ for details.\n"
     ]
    },
    {
     "name": "stdout",
     "output_type": "stream",
     "text": [
      "Quantum Communicating bit number:  3 / 12\n"
     ]
    },
    {
     "name": "stderr",
     "output_type": "stream",
     "text": [
      "Your experiment can not be optimized and may take longer to execute, see https://www.quantum-inspire.com/kbase/optimization-of-simulations/ for details.\n"
     ]
    },
    {
     "name": "stdout",
     "output_type": "stream",
     "text": [
      "Quantum Communicating bit number:  4 / 12\n"
     ]
    },
    {
     "name": "stderr",
     "output_type": "stream",
     "text": [
      "Your experiment can not be optimized and may take longer to execute, see https://www.quantum-inspire.com/kbase/optimization-of-simulations/ for details.\n"
     ]
    },
    {
     "name": "stdout",
     "output_type": "stream",
     "text": [
      "Quantum Communicating bit number:  5 / 12\n"
     ]
    },
    {
     "name": "stderr",
     "output_type": "stream",
     "text": [
      "Your experiment can not be optimized and may take longer to execute, see https://www.quantum-inspire.com/kbase/optimization-of-simulations/ for details.\n"
     ]
    },
    {
     "name": "stdout",
     "output_type": "stream",
     "text": [
      "Quantum Communicating bit number:  6 / 12\n"
     ]
    },
    {
     "name": "stderr",
     "output_type": "stream",
     "text": [
      "Your experiment can not be optimized and may take longer to execute, see https://www.quantum-inspire.com/kbase/optimization-of-simulations/ for details.\n"
     ]
    },
    {
     "name": "stdout",
     "output_type": "stream",
     "text": [
      "Quantum Communicating bit number:  7 / 12\n",
      "Quantum Communicating bit number:  8 / 12\n"
     ]
    },
    {
     "name": "stderr",
     "output_type": "stream",
     "text": [
      "Your experiment can not be optimized and may take longer to execute, see https://www.quantum-inspire.com/kbase/optimization-of-simulations/ for details.\n"
     ]
    },
    {
     "name": "stdout",
     "output_type": "stream",
     "text": [
      "Quantum Communicating bit number:  9 / 12\n",
      "Quantum Communicating bit number:  10 / 12\n",
      "Quantum Communicating bit number:  11 / 12\n",
      "Quantum Communicating bit number:  12 / 12\n"
     ]
    },
    {
     "name": "stderr",
     "output_type": "stream",
     "text": [
      "Your experiment can not be optimized and may take longer to execute, see https://www.quantum-inspire.com/kbase/optimization-of-simulations/ for details.\n"
     ]
    },
    {
     "name": "stdout",
     "output_type": "stream",
     "text": [
      "Message:  [1, 0, 1, 0, 1, 1, 1, 1, 0, 0, 1, 0]\n",
      "Output Message:  ['x', '1', 'x', 'x', 'x', '0', '1', '0', 'x', '0', 'x', 'x']\n",
      "Same Basis Instances:  [1, 5, 6, 7, 9]\n",
      "Bit Positions to compare:  [1]\n",
      "0\n",
      "Success rate:  0.0\n",
      "Failure\n",
      "Quantum Key Generated 0\n"
     ]
    }
   ],
   "source": [
    "nbits = 12\n",
    "prop = 0.3\n",
    "tolerance = 1\n",
    "Key = wholeBB84Protocol(nbits,prop,tolerance)"
   ]
  },
  {
   "cell_type": "code",
   "execution_count": null,
   "metadata": {},
   "outputs": [],
   "source": []
  }
 ],
 "metadata": {
  "kernelspec": {
   "display_name": "Python 3",
   "language": "python",
   "name": "python3"
  },
  "language_info": {
   "codemirror_mode": {
    "name": "ipython",
    "version": 3
   },
   "file_extension": ".py",
   "mimetype": "text/x-python",
   "name": "python",
   "nbconvert_exporter": "python",
   "pygments_lexer": "ipython3",
   "version": "3.8.5"
  }
 },
 "nbformat": 4,
 "nbformat_minor": 5
}
