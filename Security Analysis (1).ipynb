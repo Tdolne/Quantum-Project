{
 "cells": [
  {
   "cell_type": "code",
   "execution_count": 24,
   "id": "corporate-christianity",
   "metadata": {},
   "outputs": [],
   "source": [
    "import numpy as np\n",
    "import matplotlib.pyplot as plt\n",
    "import math as m\n",
    "import operator as op\n",
    "from functools import reduce"
   ]
  },
  {
   "cell_type": "code",
   "execution_count": 25,
   "id": "sapphire-armenia",
   "metadata": {},
   "outputs": [],
   "source": [
    "def ProbOverallFailure(probSingleFailure,N):\n",
    "    #using the repetition code and mayority voting for error correcting\n",
    "    #with N repetitions devoted to a single logical bit transmission\n",
    "    #with each one of the single iterations having a probability of failure\n",
    "    \n",
    "    #returns the overall probability of failure\n",
    "    \n",
    "    sum = 0\n",
    "    for i in range(int(N/2)+1,N+1):\n",
    "        sum += ncr(N,i)*m.pow(probSingleFailure,i)*m.pow(1-probSingleFailure,N-i)\n",
    "    \n",
    "    return sum\n",
    "\n",
    "def ncr(n, r):\n",
    "    r = min(r, n-r)\n",
    "    numer = reduce(op.mul, range(n, n-r, -1), 1)\n",
    "    denom = reduce(op.mul, range(1, r+1), 1)\n",
    "    return numer // denom  # or / in Python 2\n",
    "\n",
    "def NrepRequired(probSingleFailure,maxProbOverallFailure):\n",
    "    #fixing the funciton attributes\n",
    "    #returns the number of repetition bits required for:\n",
    "    #probOverallFailure(probSingleFailure,NRepRequired) <= maxProbOverallFailure\n",
    "    repBits = 1\n",
    "    while(True):\n",
    "        if maxProbOverallFailure >= ProbOverallFailure(probSingleFailure,repBits):\n",
    "            break\n",
    "        else:\n",
    "            repBits += 2\n",
    "    return repBits\n",
    " \n",
    "def bisection(f, a, b, tol=1e-6):\n",
    "    \"\"\"\n",
    "    Find the root of a given function f(x) using the bisection method.\n",
    "    :param f: The function to find the root of.\n",
    "    :param a: The left endpoint of the initial interval.\n",
    "    :param b: The right endpoint of the initial interval.\n",
    "    :param tol: The tolerance for the root.\n",
    "    :return: The root of the function.\n",
    "    \"\"\"\n",
    "    # check if the function changes sign between a and b\n",
    "    if f(a)*f(b) > 0:\n",
    "        raise ValueError(\"The function does not change sign between a and b\")\n",
    "    # loop until the interval is less than the tolerance\n",
    "    while abs(b-a) > tol:\n",
    "        # find the middle point of the interval\n",
    "        xo = (a+b)/2\n",
    "        # check if the function is zero at the middle point\n",
    "        if f(xo) == 0:\n",
    "            return xo\n",
    "        # check if the function changes sign between a and xo\n",
    "        if f(a)*f(xo) < 0:\n",
    "            b = xo\n",
    "        else:\n",
    "            a = xo\n",
    "    return (a+b)/2\n",
    "\n",
    "def rateDifference_fixedFidelity(prop_eve):\n",
    "    #Returns the decay rate difference of the probability of overall failure for Eve and Alice/Bob\n",
    "    #Input: proportion of qubits that Eve has access to\n",
    "\n",
    "    n = 40\n",
    "    #Fidelity_AB = 0.95\n",
    "    prop_fidelity_Eve = 1\n",
    "\n",
    "\n",
    "    N_repbits_max = 2*n +1\n",
    "    N_repbits_array = np.linspace(1,N_repbits_max,n+1,dtype=int)\n",
    "    N_probs = 2\n",
    "    \n",
    "    Fidelity_Eve = prop_fidelity_Eve*Fidelity_AB\n",
    "    q_AB = 1-(prop_eve/2*(Fidelity_AB*Fidelity_Eve+(1-Fidelity_AB)*(1-Fidelity_Eve)+1/2)+(1-prop_eve)*Fidelity_AB)\n",
    "    q_Eve= 1-Fidelity_Eve\n",
    "\n",
    "    single_prob_array = [q_AB,q_Eve]\n",
    "    overall_prob_array = np.zeros([N_probs,n+1])\n",
    "\n",
    "    for j in range(n+1):\n",
    "        if int(prop_eve*N_repbits_array[j])%2 == 1:\n",
    "            N_rep_eve = int((prop_eve*N_repbits_array[j]+1)/2)\n",
    "        elif int(prop_eve*N_repbits_array[j]) == 0:\n",
    "            N_rep_eve = 1\n",
    "        else:\n",
    "            N_rep_eve = int(prop_eve*N_repbits_array[j]/2)\n",
    "\n",
    "        overall_prob_array[0,j] = ProbOverallFailure(single_prob_array[0],N_repbits_array[j])\n",
    "        overall_prob_array[1,j] = ProbOverallFailure(single_prob_array[1],N_rep_eve)\n",
    "\n",
    "\n",
    "    fit_AB_array = np.polyfit(N_repbits_array[:], np.log(overall_prob_array[0,:]), 1)\n",
    "    fit_Eve_array= np.polyfit(N_repbits_array[:], np.log(overall_prob_array[1,:]), 1)\n",
    "    \n",
    "    return fit_AB_array[0]-fit_Eve_array[0]\n",
    "\n",
    "def rateDifference_fixedProp(prop_fidelity_Eve):\n",
    "    #Returns the decay rate difference of the probability of overall failure for Eve and Alice/Bob\n",
    "    #Input: proportion of qubits that Eve has access to\n",
    "\n",
    "    n = 40\n",
    "    #Fidelity_AB = 0.95\n",
    "    prop_eve = 1\n",
    "\n",
    "\n",
    "    N_repbits_max = 2*n +1\n",
    "    N_repbits_array = np.linspace(1,N_repbits_max,n+1,dtype=int)\n",
    "    N_probs = 2\n",
    "    \n",
    "    Fidelity_Eve = prop_fidelity_Eve*Fidelity_AB\n",
    "    q_AB = 1-(prop_eve/2*(Fidelity_AB*Fidelity_Eve+(1-Fidelity_AB)*(1-Fidelity_Eve)+1/2)+(1-prop_eve)*Fidelity_AB)\n",
    "    q_Eve= 1-Fidelity_Eve\n",
    "\n",
    "    single_prob_array = [q_AB,q_Eve]\n",
    "    overall_prob_array = np.zeros([N_probs,n+1])\n",
    "\n",
    "    for j in range(n+1):\n",
    "        if int(prop_eve*N_repbits_array[j])%2 == 1:\n",
    "            N_rep_eve = int((prop_eve*N_repbits_array[j]+1)/2)\n",
    "        elif int(prop_eve*N_repbits_array[j]) == 0:\n",
    "            N_rep_eve = 1\n",
    "        else:\n",
    "            N_rep_eve = int(prop_eve*N_repbits_array[j]/2)\n",
    "\n",
    "        overall_prob_array[0,j] = ProbOverallFailure(single_prob_array[0],N_repbits_array[j])\n",
    "        overall_prob_array[1,j] = ProbOverallFailure(single_prob_array[1],N_rep_eve)\n",
    "\n",
    "\n",
    "    fit_AB_array = np.polyfit(N_repbits_array[:], np.log(overall_prob_array[0,:]), 1)\n",
    "    fit_Eve_array= np.polyfit(N_repbits_array[:], np.log(overall_prob_array[1,:]), 1)\n",
    "    \n",
    "    return fit_AB_array[0]-fit_Eve_array[0]\n"
   ]
  },
  {
   "cell_type": "code",
   "execution_count": 41,
   "id": "breathing-termination",
   "metadata": {
    "scrolled": true
   },
   "outputs": [
    {
     "data": {
      "image/png": "[encoded data removed]",
      "text/plain": [
       "<Figure size 432x288 with 1 Axes>"
      ]
     },
     "metadata": {
      "needs_background": "light"
     },
     "output_type": "display_data"
    }
   ],
   "source": [
    "#Fixing ProbSingleFailure, plotting ProbOverallFailure(N repbits)\n",
    "\n",
    "n = 30\n",
    "Fidelity_AB = 0.95\n",
    "prop_fidelity_Eve = 1\n",
    "prop_eve = 0.5\n",
    "\n",
    "\n",
    "N_repbits_max = 2*n +1\n",
    "N_repbits_array = np.linspace(1,N_repbits_max,n+1,dtype=int)\n",
    "N_probs = 2\n",
    "\n",
    "Fidelity_Eve = prop_fidelity_Eve*Fidelity_AB\n",
    "q_AB = 1-(prop_eve/2*(Fidelity_AB*Fidelity_Eve+(1-Fidelity_AB)*(1-Fidelity_Eve)+1/2)+(1-prop_eve)*Fidelity_AB)\n",
    "q_Eve= 1-Fidelity_Eve\n",
    "\n",
    "single_prob_array = [q_AB,q_Eve]\n",
    "overall_prob_array = np.zeros([N_probs,n+1])\n",
    "\n",
    "for j in range(n+1):\n",
    "    if int(prop_eve*N_repbits_array[j])%2 == 1:\n",
    "        N_rep_eve = int((prop_eve*N_repbits_array[j]+1)/2)\n",
    "    elif int(prop_eve*N_repbits_array[j]) == 0:\n",
    "        N_rep_eve = 1\n",
    "    else:\n",
    "        N_rep_eve = int(prop_eve*N_repbits_array[j]/2)\n",
    "    \n",
    "    overall_prob_array[0,j] = ProbOverallFailure(single_prob_array[0],N_repbits_array[j])\n",
    "    overall_prob_array[1,j] = ProbOverallFailure(single_prob_array[1],N_rep_eve)\n",
    "\n",
    "\n",
    "fit_AB_array = np.polyfit(N_repbits_array[:], np.log(overall_prob_array[0,:]), 1)\n",
    "fit_Eve_array= np.polyfit(N_repbits_array[:], np.log(overall_prob_array[1,:]), 1)\n",
    "\n",
    "plt.plot(N_repbits_array,overall_prob_array[0,:],\"o--\",label= \"Alice-Bob (decay rate = \" + str(\"%.3f\" %fit_AB_array[0])+\")\")\n",
    "plt.plot(N_repbits_array,overall_prob_array[1,:],\"o--\",label= \"Eve (decay rate = \" + str(\"%.3f\" %fit_Eve_array[0])+\")\")\n",
    "plt.plot(N_repbits_array,np.exp(fit_Eve_array[1]+fit_Eve_array[0]*N_repbits_array[:]),\"--\")\n",
    "plt.yscale(\"log\")\n",
    "\n",
    "plt.xlabel(\"Number of bits in majority voting\")\n",
    "plt.ylabel(\"Overall failure probability\")\n",
    "plt.legend()             \n",
    "plt.show()\n"
   ]
  },
  {
   "cell_type": "code",
   "execution_count": 29,
   "id": "offensive-ceramic",
   "metadata": {},
   "outputs": [
    {
     "name": "stdout",
     "output_type": "stream",
     "text": [
      "-0.8462075836726357  0.3251194137738394\n"
     ]
    }
   ],
   "source": [
    "print(rateDifference_fixedFidelity(0),\"\",rateDifference_fixedFidelity(1))"
   ]
  },
  {
   "cell_type": "code",
   "execution_count": 30,
   "id": "ignored-manner",
   "metadata": {},
   "outputs": [
    {
     "name": "stdout",
     "output_type": "stream",
     "text": [
      "Critical proportion:  0.5737704895436764\n"
     ]
    }
   ],
   "source": [
    "#Fixing Fidelity Alice Bob = Fidelity Eve = 95%\n",
    "#What's the maximum proportion of bits Eve can have access to?\n",
    "Fidelity_AB = 0.95\n",
    "\n",
    "prop_good = 0\n",
    "prop_bad = 1\n",
    "\n",
    "prop_crit = bisection(rateDifference_fixedFidelity, prop_good, prop_bad, tol=1e-8)\n",
    "print(\"Critical proportion: \",prop_crit)\n"
   ]
  },
  {
   "cell_type": "code",
   "execution_count": 38,
   "id": "affiliated-disclosure",
   "metadata": {},
   "outputs": [
    {
     "name": "stdout",
     "output_type": "stream",
     "text": [
      "-0.002763776011768038  0.3251194137738394\n"
     ]
    }
   ],
   "source": [
    "print(rateDifference_fixedProp(0.5),\"\",rateDifference_fixedProp(1))"
   ]
  },
  {
   "cell_type": "code",
   "execution_count": 39,
   "id": "accredited-mitchell",
   "metadata": {},
   "outputs": [
    {
     "name": "stdout",
     "output_type": "stream",
     "text": [
      "Critical proportion:  0.5722460858523846\n"
     ]
    }
   ],
   "source": [
    "#Eve has access to all qubits\n",
    "#What's the maximum fidelity proportion Eve can have (with respect to Alice and Bob's)\n",
    "Fidelity_AB = 0.95\n",
    "\n",
    "prop_fid_good = 0.5\n",
    "prop_fid_bad = 1\n",
    "\n",
    "prop_fid_crit = bisection(rateDifference_fixedProp, prop_fid_good, prop_fid_bad, tol=1e-8)\n",
    "print(\"Critical fidelity proportion: \",prop_fid_crit)\n"
   ]
  },
  {
   "cell_type": "code",
   "execution_count": null,
   "id": "biblical-interview",
   "metadata": {},
   "outputs": [],
   "source": []
  }
 ],
 "metadata": {
  "kernelspec": {
   "display_name": "Python 3",
   "language": "python",
   "name": "python3"
  },
  "language_info": {
   "codemirror_mode": {
    "name": "ipython",
    "version": 3
   },
   "file_extension": ".py",
   "mimetype": "text/x-python",
   "name": "python",
   "nbconvert_exporter": "python",
   "pygments_lexer": "ipython3",
   "version": "3.7.1"
  }
 },
 "nbformat": 4,
 "nbformat_minor": 5
}
